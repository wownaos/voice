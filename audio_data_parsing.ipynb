{
 "cells": [
  {
   "cell_type": "code",
   "execution_count": 131,
   "metadata": {},
   "outputs": [],
   "source": [
    "import zipfile\n",
    "import pandas as pd\n",
    "import numpy as np\n",
    "import matplotlib.pyplot as plt\n",
    "import matplotlib.gridspec as gridspec\n",
    "import matplotlib as mpl\n",
    "import json\n",
    "import seaborn as sns\n",
    "import os\n",
    "import time\n",
    "import random\n",
    "import pickle\n",
    "import numba\n",
    "from tqdm import tqdm\n",
    "\n",
    "t_p = 'd://새 폴더/비대면 진료를 위한 의료진 및 환자 음성/Training/[T]라벨링데이터.zip'\n",
    "v_p = 'd://새 폴더/비대면 진료를 위한 의료진 및 환자 음성/Validation/[V]라벨링데이터.zip'"
   ]
  },
  {
   "cell_type": "code",
   "execution_count": 2,
   "metadata": {},
   "outputs": [],
   "source": [
    "# json 파일 경로 모음\n",
    "t_json = []\n",
    "v_json = []\n",
    "\n",
    "with zipfile.ZipFile(t_p, 'r') as zipObj:\n",
    "    listOfFileNames = zipObj.namelist()\n",
    "    for fileName in listOfFileNames:\n",
    "        if fileName.endswith('.json') == True:\n",
    "            t_json.append(fileName)\n",
    "\n",
    "with zipfile.ZipFile(v_p, 'r') as zipObj:\n",
    "    listOfFileNames = zipObj.namelist()\n",
    "    for fileName in listOfFileNames:\n",
    "        if fileName.endswith('.json') == True:\n",
    "            v_json.append(fileName)"
   ]
  },
  {
   "cell_type": "code",
   "execution_count": 3,
   "metadata": {},
   "outputs": [
    {
     "name": "stdout",
     "output_type": "stream",
     "text": [
      "medsub/환자/PE_0073/PE_0073-16490-01-03-F-09-A.json\n"
     ]
    }
   ],
   "source": [
    "print(t_json[100])"
   ]
  },
  {
   "cell_type": "code",
   "execution_count": 40,
   "metadata": {},
   "outputs": [],
   "source": [
    "# 원하는 특정파일만 추출\n",
    "with zipfile.ZipFile(t_p, 'r') as zipObj:\n",
    "    listOfFileNames = zipObj.namelist()\n",
    "    for fileName in listOfFileNames:\n",
    "        if fileName.endswith(\"json\"):\n",
    "            zipObj.extract(fileName, 't_json')\n",
    "\n",
    "\n",
    "with zipfile.ZipFile(v_p, 'r') as zipObj:\n",
    "    listOfFileNames = zipObj.namelist()\n",
    "    for fileName in listOfFileNames:\n",
    "        if fileName.endswith(\"json\"):\n",
    "            zipObj.extract(fileName, 'v_json')"
   ]
  },
  {
   "cell_type": "code",
   "execution_count": 4,
   "metadata": {},
   "outputs": [
    {
     "name": "stdout",
     "output_type": "stream",
     "text": [
      "medsub/환자/PE_0073/PE_0073-16716-01-03-F-09-A.json\n",
      "medv/간호사/HA_0355/HA_0355-1833-01-02-F-05-A.json\n"
     ]
    }
   ],
   "source": [
    "print(t_json[0])\n",
    "print(v_json[0])"
   ]
  },
  {
   "cell_type": "code",
   "execution_count": 5,
   "metadata": {},
   "outputs": [],
   "source": [
    "# 특정파일 추춯에 접근하기 위한 경로 재설정\n",
    "for k,i in enumerate(t_json):\n",
    "    t_json[k] = 't_json/' + i\n",
    "for k,i in enumerate(v_json):\n",
    "    v_json[k] = 'v_json/' + i"
   ]
  },
  {
   "cell_type": "code",
   "execution_count": 6,
   "metadata": {},
   "outputs": [
    {
     "data": {
      "text/plain": [
       "'t_json/medsub/환자/PE_0073/PE_0073-16746-01-03-F-09-A.json'"
      ]
     },
     "execution_count": 6,
     "metadata": {},
     "output_type": "execute_result"
    }
   ],
   "source": [
    "t_json[30]"
   ]
  },
  {
   "cell_type": "code",
   "execution_count": 7,
   "metadata": {},
   "outputs": [
    {
     "data": {
      "text/plain": [
       "dict_keys(['기본정보', '음성정보', '전사정보', '화자정보', '환경정보', '파일정보', '기타정보'])"
      ]
     },
     "execution_count": 7,
     "metadata": {},
     "output_type": "execute_result"
    }
   ],
   "source": [
    "with open (t_json[0], \"r\") as f:\n",
    "    json_data_load = json.load(f)\n",
    "json_data_load.keys()"
   ]
  },
  {
   "cell_type": "code",
   "execution_count": 8,
   "metadata": {},
   "outputs": [
    {
     "data": {
      "text/plain": [
       "<generator object test_generator at 0x000001827E054120>"
      ]
     },
     "execution_count": 8,
     "metadata": {},
     "output_type": "execute_result"
    }
   ],
   "source": [
    "def test_generator():\n",
    "    a = [1,2,3]\n",
    "    yield from a\n",
    "gen = test_generator()\n",
    "gen"
   ]
  },
  {
   "cell_type": "code",
   "execution_count": 1,
   "metadata": {},
   "outputs": [],
   "source": [
    "# multiprocessing time\n",
    "import multiprocessing\n",
    "import time\n",
    "star_time = time.time()\n",
    "\n",
    "def count(name):\n",
    "    for i in range(1,50001):\n",
    "        print(i)\n",
    "\n",
    "num_list = ['p1','p2','p3','p4']\n",
    "\n",
    "if __name__ == '__main__':\n",
    "    pool = multiprocessing.Pool(4)\n",
    "    pool.map(count,num_list)\n",
    "    pool.close()\n",
    "    pool.join()\n",
    "\n",
    "print(time.time - star_time)"
   ]
  },
  {
   "cell_type": "code",
   "execution_count": 2,
   "metadata": {},
   "outputs": [
    {
     "name": "stdout",
     "output_type": "stream",
     "text": [
      "8\n"
     ]
    }
   ],
   "source": [
    "import multiprocessing\n",
    "print(multiprocessing.cpu_count())"
   ]
  },
  {
   "cell_type": "code",
   "execution_count": null,
   "metadata": {},
   "outputs": [],
   "source": [
    "from multiprocessing import Process\n",
    "import time\n",
    "import os\n",
    "start_time = time.time()\n",
    "pre_d = []\n",
    "arr = []\n",
    "num = 0\n",
    "def do(cnt):\n",
    "    for i in t_json_random:\n",
    "        with open (i, \"r\",encoding='utf-8') as f:\n",
    "            json_data_load = json.load(f)\n",
    "            for _,v in json_data_load.items():\n",
    "                [pre_d.append(i) for i in v.values()]\n",
    "            return pre_d\n",
    "    \n",
    "\n",
    "if __name__ == '__main__':\n",
    "    t_json_random = random.sample(t_json,100)\n",
    "    procs = []\n",
    "\n",
    "    for index, number in enumerate(t_json_random):\n",
    "        proc = Process(target=do, args=(number,))\n",
    "        print(proc)\n",
    "        arr.append(pre_d)\n",
    "        pre_d = []\n",
    "        procs.append(proc)\n",
    "        proc.start()\n",
    "    for proc in procs:\n",
    "        proc.join()\n",
    "\n",
    "print(time.time() - start_time)"
   ]
  },
  {
   "cell_type": "code",
   "execution_count": 128,
   "metadata": {},
   "outputs": [],
   "source": [
    "# array sample\n",
    "pre_d = []\n",
    "arr = np.empty((1,34)).astype(int)\n",
    "\n",
    "t_json_random = random.sample(t_json,100)\n",
    "for i in t_json_random:\n",
    "    with open (i, \"r\",encoding='utf-8') as f:\n",
    "        json_data_load = json.load(f)\n",
    "        for _,v in json_data_load.items():\n",
    "            [pre_d.append(i) for i in v.values()]\n",
    "    pre_d = np.array(pre_d).reshape(1,34)\n",
    "    arr = np.concatenate((arr,pre_d),0)\n",
    "    pre_d = []\n",
    "arr = np.delete(arr,0,axis=0)"
   ]
  },
  {
   "cell_type": "code",
   "execution_count": 112,
   "metadata": {},
   "outputs": [
    {
     "name": "stdout",
     "output_type": "stream",
     "text": [
      "0.46704554557800293\n"
     ]
    }
   ],
   "source": [
    "# array time\n",
    "pre_d = []\n",
    "arr = np.empty((1,34)).astype(int)\n",
    "arr_time = []\n",
    "\n",
    "# 10회 동안 평균과 표준편차를 구하기 위한 for문\n",
    "for _ in range(10):    \n",
    "    t_json_random = random.sample(t_json,100)\n",
    "\n",
    "    # 데이터를 한 파일씩 읽어 concat하는 for문\n",
    "    start = time.time()\n",
    "    for i in t_json_random:\n",
    "        with open (i, \"r\",encoding='utf-8') as f:\n",
    "            json_data_load = json.load(f)\n",
    "            for _,v in json_data_load.items():\n",
    "                [pre_d.append(i) for i in v.values()]\n",
    "        pre_d = np.array(pre_d).reshape(1,34)\n",
    "        arr = np.concatenate((arr,pre_d),0)\n",
    "        pre_d = []\n",
    "        \n",
    "    # 초기 index 0에 위치한 배열을 없애주기 위한 구문\n",
    "    arr = np.delete(arr,0,axis=0)\n",
    "    end = time.time()\n",
    "    arr = np.empty((1,34)).astype(int)\n",
    "    arr_time.append(end - start)\n",
    "print(end - start)"
   ]
  },
  {
   "cell_type": "code",
   "execution_count": 120,
   "metadata": {},
   "outputs": [
    {
     "data": {
      "text/plain": [
       "array([[0, 0, 0, 0, 0, 0, 0, 0, 0, 0, 0, 0, 0, 0, 0, 0, 0, 0, 0, 0, 0, 0,\n",
       "        0, 0, 0, 0, 0, 0, 0, 0, 0, 0, 0, 0]])"
      ]
     },
     "execution_count": 120,
     "metadata": {},
     "output_type": "execute_result"
    }
   ],
   "source": [
    "arr"
   ]
  },
  {
   "cell_type": "code",
   "execution_count": 113,
   "metadata": {},
   "outputs": [
    {
     "data": {
      "text/plain": [
       "[0.6473007202148438,\n",
       " 0.5123403072357178,\n",
       " 0.47626638412475586,\n",
       " 0.48538875579833984,\n",
       " 0.46213579177856445,\n",
       " 0.48224782943725586,\n",
       " 0.49198389053344727,\n",
       " 0.48000359535217285,\n",
       " 0.49327659606933594,\n",
       " 0.46704554557800293]"
      ]
     },
     "execution_count": 113,
     "metadata": {},
     "output_type": "execute_result"
    }
   ],
   "source": [
    "arr_time"
   ]
  },
  {
   "cell_type": "code",
   "execution_count": 132,
   "metadata": {},
   "outputs": [
    {
     "name": "stdout",
     "output_type": "stream",
     "text": [
      "0.47826385498046875\n"
     ]
    }
   ],
   "source": [
    "# list time\n",
    "pre_lis = []\n",
    "lis = []\n",
    "lis_time = []\n",
    "\n",
    "# 10회 동안 평균과 표준편차를 구하기 위한 for문\n",
    "for _ in range(10):\n",
    "    t_json_random = random.sample(t_json,100)\n",
    "\n",
    "    # 데이터를 한 파일씩 읽어 concat하는 for문\n",
    "    start = time.time()\n",
    "    for i in t_json_random:\n",
    "        with open (i, \"r\",encoding='utf-8') as f:\n",
    "            json_data_load = json.load(f)\n",
    "            for _,v in json_data_load.items():\n",
    "                [pre_lis.append(i) for i in v.values()]\n",
    "            lis.append(pre_lis)\n",
    "            pre_lis = []\n",
    "    end = time.time()\n",
    "    lis = []\n",
    "    lis_time.append(end - start)\n",
    "print(end - start)"
   ]
  },
  {
   "cell_type": "code",
   "execution_count": 136,
   "metadata": {},
   "outputs": [
    {
     "data": {
      "text/plain": [
       "0.4910315752029419"
      ]
     },
     "execution_count": 136,
     "metadata": {},
     "output_type": "execute_result"
    }
   ],
   "source": [
    "# datframe list\n",
    "np.mean(lis_time)"
   ]
  },
  {
   "cell_type": "code",
   "execution_count": 116,
   "metadata": {},
   "outputs": [
    {
     "name": "stdout",
     "output_type": "stream",
     "text": [
      "0.7829148769378662\n"
     ]
    }
   ],
   "source": [
    "# pandas time\n",
    "person = pd.DataFrame()\n",
    "df = pd.DataFrame()\n",
    "df_time = []\n",
    "num = 0\n",
    "\n",
    "# 10회 동안 평균과 표준편차를 구하기 위한 for문\n",
    "for _ in range(10):\n",
    "    t_json_random = random.sample(t_json,100)\n",
    "\n",
    "    # 데이터를 한 파일씩 읽어 concat하는 for문\n",
    "    start = time.time()\n",
    "    for i in t_json_random:\n",
    "        with open (i, \"r\",encoding='utf-8') as f:\n",
    "            json_data_load = json.load(f)\n",
    "            for k,j in enumerate(json_data_load.keys()):\n",
    "                a = pd.DataFrame.from_dict(json_data_load.get(j),orient='index')\n",
    "                if k < 6:\n",
    "                    person = pd.concat([person,a])\n",
    "                else:\n",
    "                    person = pd.concat([person,a])\n",
    "                    person.columns = [num]\n",
    "                    df = pd.concat([df,person],axis =1)\n",
    "                    person = pd.DataFrame()\n",
    "                    num += 1\n",
    "\n",
    "    end = time.time()\n",
    "    df = pd.DataFrame()\n",
    "    df_time.append(end - start)\n",
    "print(end - start)"
   ]
  },
  {
   "cell_type": "code",
   "execution_count": 119,
   "metadata": {},
   "outputs": [
    {
     "data": {
      "text/html": [
       "<div>\n",
       "<style scoped>\n",
       "    .dataframe tbody tr th:only-of-type {\n",
       "        vertical-align: middle;\n",
       "    }\n",
       "\n",
       "    .dataframe tbody tr th {\n",
       "        vertical-align: top;\n",
       "    }\n",
       "\n",
       "    .dataframe thead th {\n",
       "        text-align: right;\n",
       "    }\n",
       "</style>\n",
       "<table border=\"1\" class=\"dataframe\">\n",
       "  <thead>\n",
       "    <tr style=\"text-align: right;\">\n",
       "      <th></th>\n",
       "    </tr>\n",
       "  </thead>\n",
       "  <tbody>\n",
       "  </tbody>\n",
       "</table>\n",
       "</div>"
      ],
      "text/plain": [
       "Empty DataFrame\n",
       "Columns: []\n",
       "Index: []"
      ]
     },
     "execution_count": 119,
     "metadata": {},
     "output_type": "execute_result"
    }
   ],
   "source": [
    "df"
   ]
  },
  {
   "cell_type": "code",
   "execution_count": 117,
   "metadata": {},
   "outputs": [
    {
     "data": {
      "text/plain": [
       "[0.9654872417449951,\n",
       " 0.8253452777862549,\n",
       " 0.7959320545196533,\n",
       " 0.7918591499328613,\n",
       " 0.775662899017334,\n",
       " 0.8502042293548584,\n",
       " 0.7885706424713135,\n",
       " 0.7847607135772705,\n",
       " 0.8073487281799316,\n",
       " 0.7829148769378662]"
      ]
     },
     "execution_count": 117,
     "metadata": {},
     "output_type": "execute_result"
    }
   ],
   "source": [
    "df_time"
   ]
  },
  {
   "cell_type": "code",
   "execution_count": 125,
   "metadata": {},
   "outputs": [
    {
     "name": "stdout",
     "output_type": "stream",
     "text": [
      "arr_mean :  0.4998\n",
      "arr_std :  0.0510\n",
      "lis_mean :  0.4696\n",
      "lis_std :  0.0192\n",
      "df_mean :  0.8168\n",
      "df_std :  0.0540\n"
     ]
    }
   ],
   "source": [
    "arr_time_mean = np.mean(arr_time)\n",
    "arr_time_std = np.std(arr_time)\n",
    "lis_time_mean = np.mean(lis_time)\n",
    "lis_time_std = np.std(lis_time)\n",
    "df_time_mean = np.mean(df_time)\n",
    "df_time_std = np.std(df_time)\n",
    "print(f'arr_mean : {arr_time_mean: .4f}\\narr_std : {arr_time_std: .4f}')\n",
    "print(f'lis_mean : {lis_time_mean: .4f}\\nlis_std : {lis_time_std: .4f}')\n",
    "print(f'df_mean : {df_time_mean: .4f}\\ndf_std : {df_time_std: .4f}')"
   ]
  },
  {
   "cell_type": "code",
   "execution_count": 27,
   "metadata": {},
   "outputs": [
    {
     "data": {
      "text/plain": [
       "array([[0, 1, 2],\n",
       "       [3, 4, 5],\n",
       "       [6, 7, 8],\n",
       "       [0, 0, 0],\n",
       "       [0, 0, 0],\n",
       "       [0, 0, 0]])"
      ]
     },
     "execution_count": 27,
     "metadata": {},
     "output_type": "execute_result"
    }
   ],
   "source": [
    "np.concatenate((a,b),axis=0).astype(int)"
   ]
  },
  {
   "cell_type": "code",
   "execution_count": null,
   "metadata": {},
   "outputs": [],
   "source": []
  },
  {
   "cell_type": "code",
   "execution_count": 234,
   "metadata": {},
   "outputs": [
    {
     "name": "stdout",
     "output_type": "stream",
     "text": [
      "1.467540979385376\n"
     ]
    }
   ],
   "source": [
    "# generator and multiprocessing\n",
    "def process(num_lis):\n",
    "    pre_d = []\n",
    "    arr = []\n",
    "    for i in num_lis:\n",
    "        with open (i, \"r\",encoding='utf-8') as f:\n",
    "            json_data_load = json.load(f)\n",
    "            for _,v in json_data_load.items():\n",
    "                [pre_d.append(i) for i in v.values()]\n",
    "            arr.append(pre_d)\n",
    "            pre_d = []\n",
    "    return arr\n",
    "    \n",
    "\n",
    "def gen():\n",
    "    t_json_random = random.sample(t_json,100)\n",
    "    for _ in range(1,5):\n",
    "        yield t_json_random[:25]\n",
    "        del t_json_random[:25]\n",
    "\n",
    "\n",
    "def main():\n",
    "    t_json_random = random.sample(t_json,100)\n",
    "    num_arr = gen()\n",
    "    #print(list(num_arr)[0])\n",
    "    procs = []\n",
    "    for index, t in enumerate(t_json_random):\n",
    "        proc = Process(target=process, args=(list(num_arr)))\n",
    "        procs.append(proc)\n",
    "        proc.start()\n",
    "\n",
    "\n",
    "if __name__ == '__main__':\n",
    "    start_time = time.time()\n",
    "    main()\n",
    "    end_time = time.time()\n",
    "print(end_time - start_time)"
   ]
  },
  {
   "cell_type": "code",
   "execution_count": null,
   "metadata": {},
   "outputs": [],
   "source": [
    "def gen():\n",
    "    t_json_random = random.sample(t_json,100)\n",
    "    for _ in range(1,5):\n",
    "        yield t_json_random[:25]\n",
    "        del t_json_random[:25]\n"
   ]
  },
  {
   "cell_type": "code",
   "execution_count": null,
   "metadata": {},
   "outputs": [],
   "source": [
    "b = []\n",
    "a = np.empty((1,34)).astype(int)\n",
    "with open (t_json[0], \"r\") as f:\n",
    "    json_data_load = json.load(f)\n",
    "    for _,v in json_data_load.items():\n",
    "        for j in v.values():\n",
    "            print(j)\n"
   ]
  },
  {
   "cell_type": "code",
   "execution_count": 260,
   "metadata": {},
   "outputs": [
    {
     "name": "stderr",
     "output_type": "stream",
     "text": [
      "100%|██████████| 1130811/1130811 [1:31:36<00:00, 205.72it/s]"
     ]
    },
    {
     "name": "stdout",
     "output_type": "stream",
     "text": [
      "5496.912704467773\n"
     ]
    },
    {
     "name": "stderr",
     "output_type": "stream",
     "text": [
      "\n"
     ]
    }
   ],
   "source": [
    "# list time\n",
    "from tqdm import tqdm\n",
    "pre_d = []\n",
    "lis = []\n",
    "num = 0\n",
    "start = time.time()\n",
    "for i in tqdm(t_json):\n",
    "    with open (i, \"r\",encoding='utf-8') as f:\n",
    "        json_data_load = json.load(f)\n",
    "        for _,v in json_data_load.items():\n",
    "            [pre_d.append(i) for i in v.values()]\n",
    "        lis.append(pre_d)\n",
    "        pre_d = []\n",
    "end = time.time()\n",
    "print(end - start)"
   ]
  },
  {
   "cell_type": "code",
   "execution_count": 264,
   "metadata": {},
   "outputs": [],
   "source": [
    "with open('arr.pickle', 'wb') as f:\n",
    "    pickle.dump(arr, f, pickle.HIGHEST_PROTOCOL)"
   ]
  },
  {
   "cell_type": "code",
   "execution_count": null,
   "metadata": {},
   "outputs": [],
   "source": []
  },
  {
   "cell_type": "code",
   "execution_count": 34,
   "metadata": {},
   "outputs": [
    {
     "data": {
      "text/plain": [
       "'t_json/medsub/환자/PE_0073/PE_0073-16716-01-03-F-09-A.json'"
      ]
     },
     "execution_count": 34,
     "metadata": {},
     "output_type": "execute_result"
    }
   ],
   "source": [
    "t_json[0]"
   ]
  },
  {
   "cell_type": "code",
   "execution_count": 35,
   "metadata": {},
   "outputs": [
    {
     "name": "stdout",
     "output_type": "stream",
     "text": [
      "0.010998249053955078\n"
     ]
    }
   ],
   "source": [
    "# list time\n",
    "pre_d = []\n",
    "lis = []\n",
    "num = 0\n",
    "keys = []\n",
    "t_json_random = random.sample(t_json,1)\n",
    "start = time.time()\n",
    "for i in t_json_random:\n",
    "    with open (i, \"r\",encoding='utf-8') as f:\n",
    "        json_data_load = json.load(f)\n",
    "        for _,v in json_data_load.items():\n",
    "            [pre_d.append(i) for i in v.values()]\n",
    "            [keys.append(i)for i in v.keys()]\n",
    "        lis.append(pre_d)\n",
    "        pre_d = []\n",
    "end = time.time()\n",
    "print(end - start)"
   ]
  },
  {
   "cell_type": "code",
   "execution_count": 36,
   "metadata": {},
   "outputs": [
    {
     "data": {
      "text/plain": [
       "['Language',\n",
       " 'Version',\n",
       " 'ApplicationCategory',\n",
       " 'NumberOfSpeaker',\n",
       " 'NumberOfUtterance',\n",
       " 'DataCategory',\n",
       " 'RecordingDate',\n",
       " 'FillingDate',\n",
       " 'RevisionHistory',\n",
       " 'Distributor',\n",
       " 'SamplingRate',\n",
       " 'ByteOrder',\n",
       " 'EncodingLaw',\n",
       " 'NumberOfBit',\n",
       " 'NumberOfChannel',\n",
       " 'SignalToNoiseRatio',\n",
       " 'LabelText',\n",
       " 'Gender',\n",
       " 'Age',\n",
       " 'Region',\n",
       " 'Dialect',\n",
       " 'RecordingEnviron',\n",
       " 'NoiseEnviron',\n",
       " 'RecordingDevice',\n",
       " 'FileCategory',\n",
       " 'FileName',\n",
       " 'DirectoryPath',\n",
       " 'HeaderSize',\n",
       " 'FileLength',\n",
       " 'FileFormat',\n",
       " 'NumberOfRepeat',\n",
       " 'TimeInterval',\n",
       " 'Distance',\n",
       " 'QualityStatus']"
      ]
     },
     "execution_count": 36,
     "metadata": {},
     "output_type": "execute_result"
    }
   ],
   "source": [
    "keys"
   ]
  },
  {
   "cell_type": "code",
   "execution_count": 9,
   "metadata": {},
   "outputs": [
    {
     "data": {
      "text/plain": [
       "1130811"
      ]
     },
     "execution_count": 9,
     "metadata": {},
     "output_type": "execute_result"
    }
   ],
   "source": [
    "# 불러온 데이터를 pickle로 저장 후 불러와서 사용\n",
    "with open('arr.pickle', 'rb') as f:\n",
    "\tdata = pickle.load(f)\n",
    "\n",
    "# 총 데이터 개수\n",
    "len(data)"
   ]
  },
  {
   "cell_type": "code",
   "execution_count": 10,
   "metadata": {},
   "outputs": [
    {
     "data": {
      "text/plain": [
       "34"
      ]
     },
     "execution_count": 10,
     "metadata": {},
     "output_type": "execute_result"
    }
   ],
   "source": [
    "# 기본정보, 음성정보 등 모두 들어가 있는지 확인\n",
    "len(data[0])"
   ]
  },
  {
   "cell_type": "code",
   "execution_count": 11,
   "metadata": {},
   "outputs": [
    {
     "name": "stdout",
     "output_type": "stream",
     "text": [
      "795\n"
     ]
    },
    {
     "data": {
      "text/plain": [
       "array(['HAHEON0O', 'PB_0207', 'NotProvided'], dtype=object)"
      ]
     },
     "execution_count": 11,
     "metadata": {},
     "output_type": "execute_result"
    }
   ],
   "source": [
    "# speakname 속성이 있는 것을 발견\n",
    "# 총 795개\n",
    "# haveon0o,notprovided, pb_0207의 고유값을 가지고 있는 것을 확인\n",
    "lis_35 = [] \n",
    "for i in data:\n",
    "    if len(i) == 35:\n",
    "        lis_35.append(i)\n",
    "\n",
    "lis_35_df = pd.DataFrame(data=lis_35)\n",
    "print(len(lis_35))\n",
    "lis_35_df[17].unique()"
   ]
  },
  {
   "cell_type": "code",
   "execution_count": 12,
   "metadata": {},
   "outputs": [
    {
     "name": "stdout",
     "output_type": "stream",
     "text": [
      "1130016\n"
     ]
    }
   ],
   "source": [
    "# 총 데이터 1130811 중 795개 0.1%도 되지 않아 제거하고 탐색을 진행\n",
    "copy_data = data.copy()\n",
    "for i in data:\n",
    "    if i in lis_35:\n",
    "        copy_data.remove(i)\n",
    "print(len(copy_data))"
   ]
  },
  {
   "cell_type": "code",
   "execution_count": 13,
   "metadata": {},
   "outputs": [],
   "source": [
    "cols = ['Language', 'Version', 'ApplicationCategory', 'NumberOfSpeaker', 'NumberOfUtterance',\n",
    "        'DataCategory', 'RecordingDate', 'FillingDate', 'RevisionHistory', 'Distributor',\n",
    "        'SamplingRate', 'ByteOrder', 'EncodingLaw', 'NumberOfBit', 'NumberOfChannel',\n",
    "        'SignalToNoiseRatio', 'LabelText','Gender', 'Age', 'Region', 'Dialect', 'RecordingEnviron',\n",
    "        'NoiseEnviron', 'RecordingDevice', 'FileCategory', 'FileName', 'DirectoryPath', 'HeaderSize',\n",
    "        'FileLength', 'FileFormat', 'NumberOfRepeat', 'TimeInterval','Distance','QualityStatus']"
   ]
  },
  {
   "cell_type": "code",
   "execution_count": 14,
   "metadata": {},
   "outputs": [
    {
     "data": {
      "text/html": [
       "<div>\n",
       "<style scoped>\n",
       "    .dataframe tbody tr th:only-of-type {\n",
       "        vertical-align: middle;\n",
       "    }\n",
       "\n",
       "    .dataframe tbody tr th {\n",
       "        vertical-align: top;\n",
       "    }\n",
       "\n",
       "    .dataframe thead th {\n",
       "        text-align: right;\n",
       "    }\n",
       "</style>\n",
       "<table border=\"1\" class=\"dataframe\">\n",
       "  <thead>\n",
       "    <tr style=\"text-align: right;\">\n",
       "      <th></th>\n",
       "      <th>Language</th>\n",
       "      <th>Version</th>\n",
       "      <th>ApplicationCategory</th>\n",
       "      <th>NumberOfSpeaker</th>\n",
       "      <th>NumberOfUtterance</th>\n",
       "      <th>DataCategory</th>\n",
       "      <th>RecordingDate</th>\n",
       "      <th>FillingDate</th>\n",
       "      <th>RevisionHistory</th>\n",
       "      <th>Distributor</th>\n",
       "      <th>...</th>\n",
       "      <th>FileCategory</th>\n",
       "      <th>FileName</th>\n",
       "      <th>DirectoryPath</th>\n",
       "      <th>HeaderSize</th>\n",
       "      <th>FileLength</th>\n",
       "      <th>FileFormat</th>\n",
       "      <th>NumberOfRepeat</th>\n",
       "      <th>TimeInterval</th>\n",
       "      <th>Distance</th>\n",
       "      <th>QualityStatus</th>\n",
       "    </tr>\n",
       "  </thead>\n",
       "  <tbody>\n",
       "    <tr>\n",
       "      <th>0</th>\n",
       "      <td>KOR</td>\n",
       "      <td>N/A</td>\n",
       "      <td>N/A</td>\n",
       "      <td>N/A</td>\n",
       "      <td>N/A</td>\n",
       "      <td>mariaDB</td>\n",
       "      <td>2021-01-15 12:50:48</td>\n",
       "      <td>N/A</td>\n",
       "      <td>N/A</td>\n",
       "      <td>Mediazen</td>\n",
       "      <td>...</td>\n",
       "      <td>Audio</td>\n",
       "      <td>PE_0073-16716-01-03-F-09-A.wav</td>\n",
       "      <td>/nia/metrixB/data/PE_0073</td>\n",
       "      <td>44</td>\n",
       "      <td>5.22</td>\n",
       "      <td>PCM</td>\n",
       "      <td>1</td>\n",
       "      <td>0</td>\n",
       "      <td>30</td>\n",
       "      <td>Good</td>\n",
       "    </tr>\n",
       "    <tr>\n",
       "      <th>1</th>\n",
       "      <td>KOR</td>\n",
       "      <td>N/A</td>\n",
       "      <td>N/A</td>\n",
       "      <td>N/A</td>\n",
       "      <td>N/A</td>\n",
       "      <td>mariaDB</td>\n",
       "      <td>2021-01-15 11:51:56</td>\n",
       "      <td>N/A</td>\n",
       "      <td>N/A</td>\n",
       "      <td>Mediazen</td>\n",
       "      <td>...</td>\n",
       "      <td>Audio</td>\n",
       "      <td>PE_0073-16558-01-03-F-09-A.wav</td>\n",
       "      <td>/nia/metrixB/data/PE_0073</td>\n",
       "      <td>44</td>\n",
       "      <td>3.84</td>\n",
       "      <td>PCM</td>\n",
       "      <td>1</td>\n",
       "      <td>0</td>\n",
       "      <td>30</td>\n",
       "      <td>Good</td>\n",
       "    </tr>\n",
       "    <tr>\n",
       "      <th>2</th>\n",
       "      <td>KOR</td>\n",
       "      <td>N/A</td>\n",
       "      <td>N/A</td>\n",
       "      <td>N/A</td>\n",
       "      <td>N/A</td>\n",
       "      <td>mariaDB</td>\n",
       "      <td>2021-01-15 12:35:44</td>\n",
       "      <td>N/A</td>\n",
       "      <td>N/A</td>\n",
       "      <td>Mediazen</td>\n",
       "      <td>...</td>\n",
       "      <td>Audio</td>\n",
       "      <td>PE_0073-16697-01-03-F-09-A.wav</td>\n",
       "      <td>/nia/metrixB/data/PE_0073</td>\n",
       "      <td>44</td>\n",
       "      <td>5.04</td>\n",
       "      <td>PCM</td>\n",
       "      <td>1</td>\n",
       "      <td>0</td>\n",
       "      <td>30</td>\n",
       "      <td>Good</td>\n",
       "    </tr>\n",
       "    <tr>\n",
       "      <th>3</th>\n",
       "      <td>KOR</td>\n",
       "      <td>N/A</td>\n",
       "      <td>N/A</td>\n",
       "      <td>N/A</td>\n",
       "      <td>N/A</td>\n",
       "      <td>mariaDB</td>\n",
       "      <td>2021-01-15 11:30:45</td>\n",
       "      <td>N/A</td>\n",
       "      <td>N/A</td>\n",
       "      <td>Mediazen</td>\n",
       "      <td>...</td>\n",
       "      <td>Audio</td>\n",
       "      <td>PE_0073-16496-01-03-F-09-A.wav</td>\n",
       "      <td>/nia/metrixB/data/PE_0073</td>\n",
       "      <td>44</td>\n",
       "      <td>5.70</td>\n",
       "      <td>PCM</td>\n",
       "      <td>1</td>\n",
       "      <td>0</td>\n",
       "      <td>30</td>\n",
       "      <td>Good</td>\n",
       "    </tr>\n",
       "    <tr>\n",
       "      <th>4</th>\n",
       "      <td>KOR</td>\n",
       "      <td>N/A</td>\n",
       "      <td>N/A</td>\n",
       "      <td>N/A</td>\n",
       "      <td>N/A</td>\n",
       "      <td>mariaDB</td>\n",
       "      <td>2021-01-15 11:51:04</td>\n",
       "      <td>N/A</td>\n",
       "      <td>N/A</td>\n",
       "      <td>Mediazen</td>\n",
       "      <td>...</td>\n",
       "      <td>Audio</td>\n",
       "      <td>PE_0073-16555-01-03-F-09-A.wav</td>\n",
       "      <td>/nia/metrixB/data/PE_0073</td>\n",
       "      <td>44</td>\n",
       "      <td>10.08</td>\n",
       "      <td>PCM</td>\n",
       "      <td>1</td>\n",
       "      <td>0</td>\n",
       "      <td>30</td>\n",
       "      <td>Good</td>\n",
       "    </tr>\n",
       "  </tbody>\n",
       "</table>\n",
       "<p>5 rows × 34 columns</p>\n",
       "</div>"
      ],
      "text/plain": [
       "  Language Version ApplicationCategory NumberOfSpeaker NumberOfUtterance  \\\n",
       "0      KOR     N/A                 N/A             N/A               N/A   \n",
       "1      KOR     N/A                 N/A             N/A               N/A   \n",
       "2      KOR     N/A                 N/A             N/A               N/A   \n",
       "3      KOR     N/A                 N/A             N/A               N/A   \n",
       "4      KOR     N/A                 N/A             N/A               N/A   \n",
       "\n",
       "  DataCategory        RecordingDate FillingDate RevisionHistory Distributor  \\\n",
       "0      mariaDB  2021-01-15 12:50:48         N/A             N/A    Mediazen   \n",
       "1      mariaDB  2021-01-15 11:51:56         N/A             N/A    Mediazen   \n",
       "2      mariaDB  2021-01-15 12:35:44         N/A             N/A    Mediazen   \n",
       "3      mariaDB  2021-01-15 11:30:45         N/A             N/A    Mediazen   \n",
       "4      mariaDB  2021-01-15 11:51:04         N/A             N/A    Mediazen   \n",
       "\n",
       "   ... FileCategory                        FileName  \\\n",
       "0  ...        Audio  PE_0073-16716-01-03-F-09-A.wav   \n",
       "1  ...        Audio  PE_0073-16558-01-03-F-09-A.wav   \n",
       "2  ...        Audio  PE_0073-16697-01-03-F-09-A.wav   \n",
       "3  ...        Audio  PE_0073-16496-01-03-F-09-A.wav   \n",
       "4  ...        Audio  PE_0073-16555-01-03-F-09-A.wav   \n",
       "\n",
       "               DirectoryPath HeaderSize FileLength FileFormat NumberOfRepeat  \\\n",
       "0  /nia/metrixB/data/PE_0073         44       5.22        PCM              1   \n",
       "1  /nia/metrixB/data/PE_0073         44       3.84        PCM              1   \n",
       "2  /nia/metrixB/data/PE_0073         44       5.04        PCM              1   \n",
       "3  /nia/metrixB/data/PE_0073         44       5.70        PCM              1   \n",
       "4  /nia/metrixB/data/PE_0073         44      10.08        PCM              1   \n",
       "\n",
       "  TimeInterval Distance QualityStatus  \n",
       "0            0       30          Good  \n",
       "1            0       30          Good  \n",
       "2            0       30          Good  \n",
       "3            0       30          Good  \n",
       "4            0       30          Good  \n",
       "\n",
       "[5 rows x 34 columns]"
      ]
     },
     "execution_count": 14,
     "metadata": {},
     "output_type": "execute_result"
    }
   ],
   "source": [
    "df = pd.DataFrame(data= copy_data,columns=cols)\n",
    "df.head()"
   ]
  },
  {
   "cell_type": "code",
   "execution_count": 15,
   "metadata": {},
   "outputs": [
    {
     "data": {
      "text/html": [
       "<div>\n",
       "<style scoped>\n",
       "    .dataframe tbody tr th:only-of-type {\n",
       "        vertical-align: middle;\n",
       "    }\n",
       "\n",
       "    .dataframe tbody tr th {\n",
       "        vertical-align: top;\n",
       "    }\n",
       "\n",
       "    .dataframe thead th {\n",
       "        text-align: right;\n",
       "    }\n",
       "</style>\n",
       "<table border=\"1\" class=\"dataframe\">\n",
       "  <thead>\n",
       "    <tr style=\"text-align: right;\">\n",
       "      <th></th>\n",
       "      <th>SamplingRate</th>\n",
       "      <th>SignalToNoiseRatio</th>\n",
       "      <th>NumberOfBit</th>\n",
       "      <th>NumberOfChannel</th>\n",
       "      <th>QualityStatus</th>\n",
       "    </tr>\n",
       "  </thead>\n",
       "  <tbody>\n",
       "    <tr>\n",
       "      <th>0</th>\n",
       "      <td>48000</td>\n",
       "      <td>N/A</td>\n",
       "      <td>16</td>\n",
       "      <td>1</td>\n",
       "      <td>Good</td>\n",
       "    </tr>\n",
       "    <tr>\n",
       "      <th>1</th>\n",
       "      <td>48000</td>\n",
       "      <td>N/A</td>\n",
       "      <td>16</td>\n",
       "      <td>1</td>\n",
       "      <td>Good</td>\n",
       "    </tr>\n",
       "    <tr>\n",
       "      <th>2</th>\n",
       "      <td>48000</td>\n",
       "      <td>N/A</td>\n",
       "      <td>16</td>\n",
       "      <td>1</td>\n",
       "      <td>Good</td>\n",
       "    </tr>\n",
       "    <tr>\n",
       "      <th>3</th>\n",
       "      <td>48000</td>\n",
       "      <td>N/A</td>\n",
       "      <td>16</td>\n",
       "      <td>1</td>\n",
       "      <td>Good</td>\n",
       "    </tr>\n",
       "    <tr>\n",
       "      <th>4</th>\n",
       "      <td>48000</td>\n",
       "      <td>N/A</td>\n",
       "      <td>16</td>\n",
       "      <td>1</td>\n",
       "      <td>Good</td>\n",
       "    </tr>\n",
       "    <tr>\n",
       "      <th>...</th>\n",
       "      <td>...</td>\n",
       "      <td>...</td>\n",
       "      <td>...</td>\n",
       "      <td>...</td>\n",
       "      <td>...</td>\n",
       "    </tr>\n",
       "    <tr>\n",
       "      <th>1130011</th>\n",
       "      <td>48000</td>\n",
       "      <td>N/A</td>\n",
       "      <td>16</td>\n",
       "      <td>1</td>\n",
       "      <td>Good</td>\n",
       "    </tr>\n",
       "    <tr>\n",
       "      <th>1130012</th>\n",
       "      <td>48000</td>\n",
       "      <td>N/A</td>\n",
       "      <td>16</td>\n",
       "      <td>1</td>\n",
       "      <td>Good</td>\n",
       "    </tr>\n",
       "    <tr>\n",
       "      <th>1130013</th>\n",
       "      <td>48000</td>\n",
       "      <td>N/A</td>\n",
       "      <td>16</td>\n",
       "      <td>1</td>\n",
       "      <td>Good</td>\n",
       "    </tr>\n",
       "    <tr>\n",
       "      <th>1130014</th>\n",
       "      <td>48000</td>\n",
       "      <td>N/A</td>\n",
       "      <td>16</td>\n",
       "      <td>1</td>\n",
       "      <td>Good</td>\n",
       "    </tr>\n",
       "    <tr>\n",
       "      <th>1130015</th>\n",
       "      <td>48000</td>\n",
       "      <td>N/A</td>\n",
       "      <td>16</td>\n",
       "      <td>1</td>\n",
       "      <td>Good</td>\n",
       "    </tr>\n",
       "  </tbody>\n",
       "</table>\n",
       "<p>1130016 rows × 5 columns</p>\n",
       "</div>"
      ],
      "text/plain": [
       "        SamplingRate SignalToNoiseRatio NumberOfBit NumberOfChannel  \\\n",
       "0              48000                N/A          16               1   \n",
       "1              48000                N/A          16               1   \n",
       "2              48000                N/A          16               1   \n",
       "3              48000                N/A          16               1   \n",
       "4              48000                N/A          16               1   \n",
       "...              ...                ...         ...             ...   \n",
       "1130011        48000                N/A          16               1   \n",
       "1130012        48000                N/A          16               1   \n",
       "1130013        48000                N/A          16               1   \n",
       "1130014        48000                N/A          16               1   \n",
       "1130015        48000                N/A          16               1   \n",
       "\n",
       "        QualityStatus  \n",
       "0                Good  \n",
       "1                Good  \n",
       "2                Good  \n",
       "3                Good  \n",
       "4                Good  \n",
       "...               ...  \n",
       "1130011          Good  \n",
       "1130012          Good  \n",
       "1130013          Good  \n",
       "1130014          Good  \n",
       "1130015          Good  \n",
       "\n",
       "[1130016 rows x 5 columns]"
      ]
     },
     "execution_count": 15,
     "metadata": {},
     "output_type": "execute_result"
    }
   ],
   "source": [
    "voice_df = df[['SamplingRate', 'SignalToNoiseRatio', 'NumberOfBit', 'NumberOfChannel','QualityStatus']]\n",
    "voice_df"
   ]
  },
  {
   "cell_type": "code",
   "execution_count": 16,
   "metadata": {},
   "outputs": [
    {
     "name": "stdout",
     "output_type": "stream",
     "text": [
      "['48000']\n",
      "['N/A']\n",
      "['16']\n",
      "['1']\n",
      "['Good']\n"
     ]
    }
   ],
   "source": [
    "# 각 column의 고유값 확인\n",
    "sample = voice_df['SamplingRate'].unique()\n",
    "snr = voice_df['SignalToNoiseRatio'].unique()\n",
    "bit = voice_df['NumberOfBit'].unique()\n",
    "channel = voice_df['NumberOfChannel'].unique()\n",
    "quality = voice_df['QualityStatus'].unique()\n",
    "print(f'{sample}\\n{snr}\\n{bit}\\n{channel}\\n{quality}')"
   ]
  },
  {
   "cell_type": "code",
   "execution_count": 17,
   "metadata": {},
   "outputs": [
    {
     "data": {
      "text/plain": [
       "Language               0\n",
       "Version                0\n",
       "ApplicationCategory    0\n",
       "NumberOfSpeaker        0\n",
       "NumberOfUtterance      0\n",
       "DataCategory           0\n",
       "RecordingDate          0\n",
       "FillingDate            0\n",
       "RevisionHistory        0\n",
       "Distributor            0\n",
       "SamplingRate           0\n",
       "ByteOrder              0\n",
       "EncodingLaw            0\n",
       "NumberOfBit            0\n",
       "NumberOfChannel        0\n",
       "SignalToNoiseRatio     0\n",
       "LabelText              0\n",
       "Gender                 0\n",
       "Age                    0\n",
       "Region                 0\n",
       "Dialect                0\n",
       "RecordingEnviron       0\n",
       "NoiseEnviron           0\n",
       "RecordingDevice        0\n",
       "FileCategory           0\n",
       "FileName               0\n",
       "DirectoryPath          0\n",
       "HeaderSize             0\n",
       "FileLength             0\n",
       "FileFormat             0\n",
       "NumberOfRepeat         0\n",
       "TimeInterval           0\n",
       "Distance               0\n",
       "QualityStatus          0\n",
       "dtype: int64"
      ]
     },
     "execution_count": 17,
     "metadata": {},
     "output_type": "execute_result"
    }
   ],
   "source": [
    "# 전체 데이터 결측치 확인\n",
    "# N/A > 이곳에 값이 있어야하는데 값을 못늫은상태 출력이 됨, python에서는 nan,none를 결측치로 인식\n",
    "# null > 아무것도없음, 출력안댐\n",
    "df.isnull().sum()"
   ]
  },
  {
   "cell_type": "code",
   "execution_count": 106,
   "metadata": {},
   "outputs": [
    {
     "data": {
      "text/html": [
       "<div>\n",
       "<style scoped>\n",
       "    .dataframe tbody tr th:only-of-type {\n",
       "        vertical-align: middle;\n",
       "    }\n",
       "\n",
       "    .dataframe tbody tr th {\n",
       "        vertical-align: top;\n",
       "    }\n",
       "\n",
       "    .dataframe thead th {\n",
       "        text-align: right;\n",
       "    }\n",
       "</style>\n",
       "<table border=\"1\" class=\"dataframe\">\n",
       "  <thead>\n",
       "    <tr style=\"text-align: right;\">\n",
       "      <th></th>\n",
       "      <th>Version</th>\n",
       "      <th>Gender</th>\n",
       "      <th>Age</th>\n",
       "      <th>Region</th>\n",
       "      <th>Dialect</th>\n",
       "      <th>LabelText</th>\n",
       "    </tr>\n",
       "  </thead>\n",
       "  <tbody>\n",
       "    <tr>\n",
       "      <th>0</th>\n",
       "      <td>N/A</td>\n",
       "      <td>Female</td>\n",
       "      <td>over70</td>\n",
       "      <td>서울/인천/경기</td>\n",
       "      <td>경기/서울</td>\n",
       "      <td>매일 저녁 먹을 때 와인 한 잔씩 마셔요.</td>\n",
       "    </tr>\n",
       "    <tr>\n",
       "      <th>1</th>\n",
       "      <td>N/A</td>\n",
       "      <td>Female</td>\n",
       "      <td>over70</td>\n",
       "      <td>서울/인천/경기</td>\n",
       "      <td>경기/서울</td>\n",
       "      <td>안 하려고 노력하는데요.</td>\n",
       "    </tr>\n",
       "    <tr>\n",
       "      <th>2</th>\n",
       "      <td>N/A</td>\n",
       "      <td>Female</td>\n",
       "      <td>over70</td>\n",
       "      <td>서울/인천/경기</td>\n",
       "      <td>경기/서울</td>\n",
       "      <td>전자 담배로 바꾼 기간도 포함되나요?</td>\n",
       "    </tr>\n",
       "    <tr>\n",
       "      <th>3</th>\n",
       "      <td>N/A</td>\n",
       "      <td>Female</td>\n",
       "      <td>over70</td>\n",
       "      <td>서울/인천/경기</td>\n",
       "      <td>경기/서울</td>\n",
       "      <td>아예 잠이 안 오는 게 제일 큰 문제에요.</td>\n",
       "    </tr>\n",
       "    <tr>\n",
       "      <th>4</th>\n",
       "      <td>N/A</td>\n",
       "      <td>Female</td>\n",
       "      <td>over70</td>\n",
       "      <td>서울/인천/경기</td>\n",
       "      <td>경기/서울</td>\n",
       "      <td>되게 잘 자요. 베개에 머리를 대자마자 자거든요. 일곱 시간은 기본적으로 자요.</td>\n",
       "    </tr>\n",
       "  </tbody>\n",
       "</table>\n",
       "</div>"
      ],
      "text/plain": [
       "  Version  Gender     Age    Region Dialect  \\\n",
       "0     N/A  Female  over70  서울/인천/경기   경기/서울   \n",
       "1     N/A  Female  over70  서울/인천/경기   경기/서울   \n",
       "2     N/A  Female  over70  서울/인천/경기   경기/서울   \n",
       "3     N/A  Female  over70  서울/인천/경기   경기/서울   \n",
       "4     N/A  Female  over70  서울/인천/경기   경기/서울   \n",
       "\n",
       "                                      LabelText  \n",
       "0                       매일 저녁 먹을 때 와인 한 잔씩 마셔요.  \n",
       "1                                 안 하려고 노력하는데요.  \n",
       "2                          전자 담배로 바꾼 기간도 포함되나요?  \n",
       "3                       아예 잠이 안 오는 게 제일 큰 문제에요.  \n",
       "4  되게 잘 자요. 베개에 머리를 대자마자 자거든요. 일곱 시간은 기본적으로 자요.  "
      ]
     },
     "execution_count": 106,
     "metadata": {},
     "output_type": "execute_result"
    }
   ],
   "source": [
    "categori_df = df[['Version','Gender','Age','Region','Dialect','LabelText']]\n",
    "categori_df.head()"
   ]
  },
  {
   "cell_type": "code",
   "execution_count": 107,
   "metadata": {},
   "outputs": [
    {
     "name": "stdout",
     "output_type": "stream",
     "text": [
      "['N/A']\n",
      "['Female' 'Male']\n",
      "['over70' '20~29' '50~59' '30~39' '40~49' '11~19' '60~69' '7~10' '3~6']\n",
      "['서울/인천/경기' '부산/대구/울산/경상' '대전/세종/충청/강원' '광주/전라/제주']\n",
      "['경기/서울' '경상' '충청' '전라' '강원' '제주' '기타(외국)']\n",
      "39724\n"
     ]
    }
   ],
   "source": [
    "# 각 column의 고유값 확인\n",
    "ver = categori_df['Version'].unique()\n",
    "gen = categori_df['Gender'].unique()\n",
    "age = categori_df['Age'].unique()\n",
    "region = categori_df['Region'].unique()\n",
    "dialect = categori_df['Dialect'].unique()\n",
    "label = categori_df['LabelText'].unique()\n",
    "print(f'{ver}\\n{gen}\\n{age}\\n{region}\\n{dialect}')\n",
    "print(len(label))"
   ]
  },
  {
   "cell_type": "code",
   "execution_count": 20,
   "metadata": {},
   "outputs": [
    {
     "data": {
      "image/png": "[encoded data removed]",
      "text/plain": [
       "<Figure size 720x720 with 4 Axes>"
      ]
     },
     "metadata": {
      "needs_background": "light"
     },
     "output_type": "display_data"
    }
   ],
   "source": [
    "# histogram - gender, age, region, dialect\n",
    "# 각 고유값 빈도수 확인\n",
    "def hist_feature(df,features, rows, cols, size=(10,10)):\n",
    "      plt.rcParams['font.family'] = 'Malgun Gothic'\n",
    "      mpl.rc('font',size=9)\n",
    "      plt.figure(figsize=(10,10))\n",
    "      grid = gridspec.GridSpec(rows,cols)\n",
    "      plt.subplots_adjust(wspace=0.2, hspace=0.2)\n",
    "      \n",
    "      for idx, feature in enumerate(features):\n",
    "            plt.subplot(grid[idx])\n",
    "            plt.hist(feature, data=df,color = \"skyblue\", bins = len(df[feature].unique()),rwidth=0.9)\n",
    "            plt.xticks(rotation=45)\n",
    "hist_feature(categori_df, ['Gender','Age','Region','Dialect'], 2, 2)"
   ]
  },
  {
   "cell_type": "code",
   "execution_count": 21,
   "metadata": {},
   "outputs": [
    {
     "data": {
      "text/html": [
       "<div>\n",
       "<style scoped>\n",
       "    .dataframe tbody tr th:only-of-type {\n",
       "        vertical-align: middle;\n",
       "    }\n",
       "\n",
       "    .dataframe tbody tr th {\n",
       "        vertical-align: top;\n",
       "    }\n",
       "\n",
       "    .dataframe thead th {\n",
       "        text-align: right;\n",
       "    }\n",
       "</style>\n",
       "<table border=\"1\" class=\"dataframe\">\n",
       "  <thead>\n",
       "    <tr style=\"text-align: right;\">\n",
       "      <th></th>\n",
       "      <th>Language</th>\n",
       "      <th>Version</th>\n",
       "      <th>ApplicationCategory</th>\n",
       "      <th>NumberOfSpeaker</th>\n",
       "      <th>NumberOfUtterance</th>\n",
       "      <th>DataCategory</th>\n",
       "      <th>RecordingDate</th>\n",
       "      <th>FillingDate</th>\n",
       "      <th>RevisionHistory</th>\n",
       "      <th>Distributor</th>\n",
       "      <th>...</th>\n",
       "      <th>FileCategory</th>\n",
       "      <th>FileName</th>\n",
       "      <th>DirectoryPath</th>\n",
       "      <th>HeaderSize</th>\n",
       "      <th>FileLength</th>\n",
       "      <th>FileFormat</th>\n",
       "      <th>NumberOfRepeat</th>\n",
       "      <th>TimeInterval</th>\n",
       "      <th>Distance</th>\n",
       "      <th>QualityStatus</th>\n",
       "    </tr>\n",
       "  </thead>\n",
       "  <tbody>\n",
       "    <tr>\n",
       "      <th>0</th>\n",
       "      <td>KOR</td>\n",
       "      <td>N/A</td>\n",
       "      <td>N/A</td>\n",
       "      <td>N/A</td>\n",
       "      <td>N/A</td>\n",
       "      <td>mariaDB</td>\n",
       "      <td>2021-01-15 12:50:48</td>\n",
       "      <td>N/A</td>\n",
       "      <td>N/A</td>\n",
       "      <td>Mediazen</td>\n",
       "      <td>...</td>\n",
       "      <td>Audio</td>\n",
       "      <td>PE_0073-16716-01-03-F-09-A.wav</td>\n",
       "      <td>/nia/metrixB/data/PE_0073</td>\n",
       "      <td>44</td>\n",
       "      <td>5.22</td>\n",
       "      <td>PCM</td>\n",
       "      <td>1</td>\n",
       "      <td>0</td>\n",
       "      <td>30</td>\n",
       "      <td>Good</td>\n",
       "    </tr>\n",
       "  </tbody>\n",
       "</table>\n",
       "<p>1 rows × 34 columns</p>\n",
       "</div>"
      ],
      "text/plain": [
       "  Language Version ApplicationCategory NumberOfSpeaker NumberOfUtterance  \\\n",
       "0      KOR     N/A                 N/A             N/A               N/A   \n",
       "\n",
       "  DataCategory        RecordingDate FillingDate RevisionHistory Distributor  \\\n",
       "0      mariaDB  2021-01-15 12:50:48         N/A             N/A    Mediazen   \n",
       "\n",
       "   ... FileCategory                        FileName  \\\n",
       "0  ...        Audio  PE_0073-16716-01-03-F-09-A.wav   \n",
       "\n",
       "               DirectoryPath HeaderSize FileLength FileFormat NumberOfRepeat  \\\n",
       "0  /nia/metrixB/data/PE_0073         44       5.22        PCM              1   \n",
       "\n",
       "  TimeInterval Distance QualityStatus  \n",
       "0            0       30          Good  \n",
       "\n",
       "[1 rows x 34 columns]"
      ]
     },
     "execution_count": 21,
     "metadata": {},
     "output_type": "execute_result"
    }
   ],
   "source": [
    "df.loc[[0]]"
   ]
  },
  {
   "cell_type": "code",
   "execution_count": 48,
   "metadata": {},
   "outputs": [],
   "source": [
    "# bar plot - gender, age, region, dialect\n",
    "def bar_feature(df,features, rows, cols, size=(15,25)):\n",
    "  plt.rcParams['font.family'] = 'Malgun Gothic'    \n",
    "  mpl.rc('font',size=9)\n",
    "  plt.figure(figsize=(15,15))\n",
    "  grid = gridspec.GridSpec(rows,cols)\n",
    "  plt.subplots_adjust(wspace=0.3, hspace=1)\n",
    "\n",
    "  for idx, feature in enumerate(features):\n",
    "    ax = plt.subplot(grid[idx])\n",
    "    sns.barplot(x=feature, y='LabelText', data = df, palette='Set2',ax=ax)"
   ]
  },
  {
   "cell_type": "code",
   "execution_count": 91,
   "metadata": {},
   "outputs": [
    {
     "data": {
      "text/plain": [
       "Index(['가게 하나 운영하고 있어요.', '가게를 운영해요.', '가격이 비싸지 않나요?'], dtype='object', name='LabelText')"
      ]
     },
     "execution_count": 91,
     "metadata": {},
     "output_type": "execute_result"
    }
   ],
   "source": [
    "# 각 labeltext 빈도수 확인\n",
    "label_text = [i for i in categori_df.groupby('LabelText').size() if i >= 20]\n",
    "# label_text = []\n",
    "# m = []\n",
    "# for k,i in enumerate(categori_df.groupby('LabelText').size()):\n",
    "#     if i >= 20:\n",
    "#         m.append(categori_df.groupby('LabelText').size()[i].index)   \n",
    "#         label_text.append(i)\n",
    "# categori_df.groupby('LabelText').size().sort_values\n",
    "\n",
    "categori_df.groupby('LabelText').size().index"
   ]
  },
  {
   "cell_type": "code",
   "execution_count": null,
   "metadata": {},
   "outputs": [],
   "source": [
    "s"
   ]
  },
  {
   "cell_type": "code",
   "execution_count": 132,
   "metadata": {},
   "outputs": [
    {
     "data": {
      "text/plain": [
       "LabelText\n",
       "가게를 운영해요.                          23\n",
       "가격이 비싸지 않나요?                       20\n",
       "가고 싶긴 한데 움직이는 게 불편해요.              20\n",
       "가고 싶어도 못 가서 일 년은 외국 땅 밟지도 못했어요.    31\n",
       "가고 싶었는데 취소했어요.                     22\n",
       "                                   ..\n",
       "힘이 빠지나요?                           86\n",
       "힘이 빠지는 느낌을 받나요?                    82\n",
       "힘이 없고 늘 피로한가요?                     81\n",
       "힘이 없고 입도 계속 말라요.                   23\n",
       "힘찬 비뇨기과요.                          22\n",
       "Length: 23357, dtype: int64"
      ]
     },
     "execution_count": 132,
     "metadata": {},
     "output_type": "execute_result"
    }
   ],
   "source": [
    "label_series = categori_df.groupby('LabelText').size()\n",
    "for k,i in zip(label_series.index,label_series.values):\n",
    "    if i < 20:\n",
    "        label_series = label_series.drop(k)\n",
    "# a = [s.drop(k) for k,i in zip(s.index,s.values) if i <= 20]\n",
    "label_series"
   ]
  },
  {
   "cell_type": "code",
   "execution_count": 110,
   "metadata": {},
   "outputs": [
    {
     "data": {
      "text/plain": [
       "23357"
      ]
     },
     "execution_count": 110,
     "metadata": {},
     "output_type": "execute_result"
    }
   ],
   "source": [
    "len(s)"
   ]
  },
  {
   "cell_type": "code",
   "execution_count": 103,
   "metadata": {},
   "outputs": [
    {
     "data": {
      "text/plain": [
       "23357"
      ]
     },
     "execution_count": 103,
     "metadata": {},
     "output_type": "execute_result"
    }
   ],
   "source": [
    "(categori_df.groupby('LabelText').size() >= 20).sum()"
   ]
  },
  {
   "cell_type": "code",
   "execution_count": null,
   "metadata": {},
   "outputs": [],
   "source": [
    "list(s.index)"
   ]
  },
  {
   "cell_type": "code",
   "execution_count": 124,
   "metadata": {},
   "outputs": [
    {
     "data": {
      "text/plain": [
       "Index(['가게를 운영해요.', '가격이 비싸지 않나요?', '가고 싶긴 한데 움직이는 게 불편해요.',\n",
       "       '가고 싶어도 못 가서 일 년은 외국 땅 밟지도 못했어요.', '가고 싶었는데 취소했어요.',\n",
       "       '가고 싶은데 거동이 불편해서요.', '가고 싶은지 어떻게 아셨어요?', '가고는 싶은데 막상 가면 안 나올 것 같아요.',\n",
       "       '가고는 싶은데 통증이 있을까 봐 무서워서 잘 안 가요.', '가급적 브래지어도 벗고 가운을 착용하시기 바랍니다.',\n",
       "       ...\n",
       "       '힘을 줘도 대변이 잘 안 나오시나요?', '힘을 줘서 근육통이 생길 수 있습니다.',\n",
       "       '힘이 나질 않고 무기력함만 느끼시나요?', '힘이 듭니다.', '힘이 많이 달린다는 느낌은 없으시고요?', '힘이 빠지나요?',\n",
       "       '힘이 빠지는 느낌을 받나요?', '힘이 없고 늘 피로한가요?', '힘이 없고 입도 계속 말라요.', '힘찬 비뇨기과요.'],\n",
       "      dtype='object', name='LabelText', length=23357)"
      ]
     },
     "execution_count": 124,
     "metadata": {},
     "output_type": "execute_result"
    }
   ],
   "source": [
    "s.index"
   ]
  },
  {
   "cell_type": "code",
   "execution_count": 125,
   "metadata": {},
   "outputs": [
    {
     "data": {
      "text/plain": [
       "<BarContainer object of 23357 artists>"
      ]
     },
     "execution_count": 125,
     "metadata": {},
     "output_type": "execute_result"
    },
    {
     "data": {
      "image/png": "[encoded data removed]",
      "text/plain": [
       "<Figure size 432x288 with 1 Axes>"
      ]
     },
     "metadata": {
      "needs_background": "light"
     },
     "output_type": "display_data"
    }
   ],
   "source": [
    "from sklearn.preprocessing import LabelEncoder\n",
    "le = LabelEncoder()\n",
    "\n",
    "plt.bar(le.fit_transform(list(s.index)), list(s.values))\n",
    "plt.xlabel('labeltext')\n",
    "plt.ylabel('count')\n",
    "# 분류한거 다시 문자열로 복구\n",
    "# le.inverse_transform(a)"
   ]
  },
  {
   "cell_type": "code",
   "execution_count": 129,
   "metadata": {},
   "outputs": [
    {
     "data": {
      "text/plain": [
       "863"
      ]
     },
     "execution_count": 129,
     "metadata": {},
     "output_type": "execute_result"
    }
   ],
   "source": [
    "(categori_df.groupby('LabelText').size() == 1).sum()"
   ]
  },
  {
   "cell_type": "code",
   "execution_count": 130,
   "metadata": {},
   "outputs": [
    {
     "data": {
      "text/plain": [
       "2098"
      ]
     },
     "execution_count": 130,
     "metadata": {},
     "output_type": "execute_result"
    }
   ],
   "source": [
    "(categori_df.groupby('LabelText').size() < 10).sum()"
   ]
  },
  {
   "cell_type": "code",
   "execution_count": 128,
   "metadata": {},
   "outputs": [
    {
     "data": {
      "text/plain": [
       "39724"
      ]
     },
     "execution_count": 128,
     "metadata": {},
     "output_type": "execute_result"
    }
   ],
   "source": [
    "len(categori_df.groupby('LabelText').size())"
   ]
  },
  {
   "cell_type": "code",
   "execution_count": 152,
   "metadata": {},
   "outputs": [
    {
     "name": "stderr",
     "output_type": "stream",
     "text": [
      "  0%|          | 2608/1130016 [01:18<9:23:37, 33.34it/s] \n"
     ]
    },
    {
     "ename": "KeyboardInterrupt",
     "evalue": "",
     "output_type": "error",
     "traceback": [
      "\u001b[1;31m---------------------------------------------------------------------------\u001b[0m",
      "\u001b[1;31mKeyboardInterrupt\u001b[0m                         Traceback (most recent call last)",
      "\u001b[1;32md:\\새 폴더\\비대면 진료를 위한 의료진 및 환자 음성\\fir.ipynb 셀 53\u001b[0m in \u001b[0;36m<cell line: 5>\u001b[1;34m()\u001b[0m\n\u001b[0;32m      <a href='vscode-notebook-cell:/d%3A/%EC%83%88%20%ED%8F%B4%EB%8D%94/%EB%B9%84%EB%8C%80%EB%A9%B4%20%EC%A7%84%EB%A3%8C%EB%A5%BC%20%EC%9C%84%ED%95%9C%20%EC%9D%98%EB%A3%8C%EC%A7%84%20%EB%B0%8F%20%ED%99%98%EC%9E%90%20%EC%9D%8C%EC%84%B1/fir.ipynb#Y235sZmlsZQ%3D%3D?line=1'>2</a>\u001b[0m new_le_lis \u001b[39m=\u001b[39m []\n\u001b[0;32m      <a href='vscode-notebook-cell:/d%3A/%EC%83%88%20%ED%8F%B4%EB%8D%94/%EB%B9%84%EB%8C%80%EB%A9%B4%20%EC%A7%84%EB%A3%8C%EB%A5%BC%20%EC%9C%84%ED%95%9C%20%EC%9D%98%EB%A3%8C%EC%A7%84%20%EB%B0%8F%20%ED%99%98%EC%9E%90%20%EC%9D%8C%EC%84%B1/fir.ipynb#Y235sZmlsZQ%3D%3D?line=2'>3</a>\u001b[0m new_iden_lis \u001b[39m=\u001b[39m []\n\u001b[1;32m----> <a href='vscode-notebook-cell:/d%3A/%EC%83%88%20%ED%8F%B4%EB%8D%94/%EB%B9%84%EB%8C%80%EB%A9%B4%20%EC%A7%84%EB%A3%8C%EB%A5%BC%20%EC%9C%84%ED%95%9C%20%EC%9D%98%EB%A3%8C%EC%A7%84%20%EB%B0%8F%20%ED%99%98%EC%9E%90%20%EC%9D%8C%EC%84%B1/fir.ipynb#Y235sZmlsZQ%3D%3D?line=4'>5</a>\u001b[0m \u001b[39mfor\u001b[39;00m i \u001b[39min\u001b[39;00m tqdm(\u001b[39mrange\u001b[39m(\u001b[39mlen\u001b[39m(le_lis))):\n\u001b[0;32m      <a href='vscode-notebook-cell:/d%3A/%EC%83%88%20%ED%8F%B4%EB%8D%94/%EB%B9%84%EB%8C%80%EB%A9%B4%20%EC%A7%84%EB%A3%8C%EB%A5%BC%20%EC%9C%84%ED%95%9C%20%EC%9D%98%EB%A3%8C%EC%A7%84%20%EB%B0%8F%20%ED%99%98%EC%9E%90%20%EC%9D%8C%EC%84%B1/fir.ipynb#Y235sZmlsZQ%3D%3D?line=5'>6</a>\u001b[0m     \u001b[39mif\u001b[39;00m le_lis\u001b[39m.\u001b[39mcount(le_lis[i]) \u001b[39m>\u001b[39m\u001b[39m=\u001b[39m \u001b[39m20\u001b[39m:\n\u001b[0;32m      <a href='vscode-notebook-cell:/d%3A/%EC%83%88%20%ED%8F%B4%EB%8D%94/%EB%B9%84%EB%8C%80%EB%A9%B4%20%EC%A7%84%EB%A3%8C%EB%A5%BC%20%EC%9C%84%ED%95%9C%20%EC%9D%98%EB%A3%8C%EC%A7%84%20%EB%B0%8F%20%ED%99%98%EC%9E%90%20%EC%9D%8C%EC%84%B1/fir.ipynb#Y235sZmlsZQ%3D%3D?line=6'>7</a>\u001b[0m         new_le_lis\u001b[39m.\u001b[39mappend(le_lis[i])\n",
      "File \u001b[1;32mc:\\Users\\JANG JAE YOUNG\\.conda\\envs\\dddd\\lib\\site-packages\\tqdm\\std.py:1196\u001b[0m, in \u001b[0;36mtqdm.__iter__\u001b[1;34m(self)\u001b[0m\n\u001b[0;32m   1194\u001b[0m \u001b[39mtry\u001b[39;00m:\n\u001b[0;32m   1195\u001b[0m     \u001b[39mfor\u001b[39;00m obj \u001b[39min\u001b[39;00m iterable:\n\u001b[1;32m-> 1196\u001b[0m         \u001b[39myield\u001b[39;00m obj\n\u001b[0;32m   1197\u001b[0m         \u001b[39m# Update and possibly print the progressbar.\u001b[39;00m\n\u001b[0;32m   1198\u001b[0m         \u001b[39m# Note: does not call self.update(1) for speed optimisation.\u001b[39;00m\n\u001b[0;32m   1199\u001b[0m         n \u001b[39m+\u001b[39m\u001b[39m=\u001b[39m \u001b[39m1\u001b[39m\n",
      "\u001b[1;31mKeyboardInterrupt\u001b[0m: "
     ]
    }
   ],
   "source": [
    "rem = []\n",
    "new_le_lis = []\n",
    "new_iden_lis = []\n",
    "\n",
    "for k, i in tqdm(enumerate(categori_df.groupby('LabelText').size())):\n",
    "    if i >= 20:\n",
    "        new_le_lis.append(le_lis[i])\n",
    "        new_iden_lis.append(iden_lis[i])\n",
    "new_le_lis[0]"
   ]
  },
  {
   "cell_type": "code",
   "execution_count": 21,
   "metadata": {},
   "outputs": [
    {
     "name": "stdout",
     "output_type": "stream",
     "text": [
      "label 평균횟수 : 28.446682106535093\n",
      "label 최소횟수 : 1\n",
      "label 최대횟수 : 106\n"
     ]
    }
   ],
   "source": [
    "# label_text 평균 횟수\n",
    "print(f'label 평균횟수 : {np.mean(label_text)}\\nlabel 최소횟수 : {np.min(label_text)}\\nlabel 최대횟수 : {max(label_text)}')"
   ]
  },
  {
   "cell_type": "code",
   "execution_count": 134,
   "metadata": {},
   "outputs": [
    {
     "ename": "KeyboardInterrupt",
     "evalue": "",
     "output_type": "error",
     "traceback": [
      "\u001b[1;31m---------------------------------------------------------------------------\u001b[0m",
      "\u001b[1;31mKeyboardInterrupt\u001b[0m                         Traceback (most recent call last)",
      "\u001b[1;32md:\\새 폴더\\비대면 진료를 위한 의료진 및 환자 음성\\fir.ipynb 셀 62\u001b[0m in \u001b[0;36m<cell line: 2>\u001b[1;34m()\u001b[0m\n\u001b[0;32m      <a href='vscode-notebook-cell:/d%3A/%EC%83%88%20%ED%8F%B4%EB%8D%94/%EB%B9%84%EB%8C%80%EB%A9%B4%20%EC%A7%84%EB%A3%8C%EB%A5%BC%20%EC%9C%84%ED%95%9C%20%EC%9D%98%EB%A3%8C%EC%A7%84%20%EB%B0%8F%20%ED%99%98%EC%9E%90%20%EC%9D%8C%EC%84%B1/fir.ipynb#Y101sZmlsZQ%3D%3D?line=0'>1</a>\u001b[0m \u001b[39m# 원하는 특정파일만 추출\u001b[39;00m\n\u001b[1;32m----> <a href='vscode-notebook-cell:/d%3A/%EC%83%88%20%ED%8F%B4%EB%8D%94/%EB%B9%84%EB%8C%80%EB%A9%B4%20%EC%A7%84%EB%A3%8C%EB%A5%BC%20%EC%9C%84%ED%95%9C%20%EC%9D%98%EB%A3%8C%EC%A7%84%20%EB%B0%8F%20%ED%99%98%EC%9E%90%20%EC%9D%8C%EC%84%B1/fir.ipynb#Y101sZmlsZQ%3D%3D?line=1'>2</a>\u001b[0m \u001b[39mwith\u001b[39;00m zipfile\u001b[39m.\u001b[39;49mZipFile(t_p, \u001b[39m'\u001b[39;49m\u001b[39mr\u001b[39;49m\u001b[39m'\u001b[39;49m) \u001b[39mas\u001b[39;00m zipObj:\n\u001b[0;32m      <a href='vscode-notebook-cell:/d%3A/%EC%83%88%20%ED%8F%B4%EB%8D%94/%EB%B9%84%EB%8C%80%EB%A9%B4%20%EC%A7%84%EB%A3%8C%EB%A5%BC%20%EC%9C%84%ED%95%9C%20%EC%9D%98%EB%A3%8C%EC%A7%84%20%EB%B0%8F%20%ED%99%98%EC%9E%90%20%EC%9D%8C%EC%84%B1/fir.ipynb#Y101sZmlsZQ%3D%3D?line=2'>3</a>\u001b[0m     ls \u001b[39m=\u001b[39m zipObj\u001b[39m.\u001b[39mnamelist()\n\u001b[0;32m      <a href='vscode-notebook-cell:/d%3A/%EC%83%88%20%ED%8F%B4%EB%8D%94/%EB%B9%84%EB%8C%80%EB%A9%B4%20%EC%A7%84%EB%A3%8C%EB%A5%BC%20%EC%9C%84%ED%95%9C%20%EC%9D%98%EB%A3%8C%EC%A7%84%20%EB%B0%8F%20%ED%99%98%EC%9E%90%20%EC%9D%8C%EC%84%B1/fir.ipynb#Y101sZmlsZQ%3D%3D?line=3'>4</a>\u001b[0m \u001b[39mprint\u001b[39m(ls)\n",
      "File \u001b[1;32mc:\\Users\\JANG JAE YOUNG\\.conda\\envs\\dddd\\lib\\zipfile.py:1269\u001b[0m, in \u001b[0;36mZipFile.__init__\u001b[1;34m(self, file, mode, compression, allowZip64, compresslevel, strict_timestamps)\u001b[0m\n\u001b[0;32m   1267\u001b[0m \u001b[39mtry\u001b[39;00m:\n\u001b[0;32m   1268\u001b[0m     \u001b[39mif\u001b[39;00m mode \u001b[39m==\u001b[39m \u001b[39m'\u001b[39m\u001b[39mr\u001b[39m\u001b[39m'\u001b[39m:\n\u001b[1;32m-> 1269\u001b[0m         \u001b[39mself\u001b[39;49m\u001b[39m.\u001b[39;49m_RealGetContents()\n\u001b[0;32m   1270\u001b[0m     \u001b[39melif\u001b[39;00m mode \u001b[39min\u001b[39;00m (\u001b[39m'\u001b[39m\u001b[39mw\u001b[39m\u001b[39m'\u001b[39m, \u001b[39m'\u001b[39m\u001b[39mx\u001b[39m\u001b[39m'\u001b[39m):\n\u001b[0;32m   1271\u001b[0m         \u001b[39m# set the modified flag so central directory gets written\u001b[39;00m\n\u001b[0;32m   1272\u001b[0m         \u001b[39m# even if no files are added to the archive\u001b[39;00m\n\u001b[0;32m   1273\u001b[0m         \u001b[39mself\u001b[39m\u001b[39m.\u001b[39m_didModify \u001b[39m=\u001b[39m \u001b[39mTrue\u001b[39;00m\n",
      "File \u001b[1;32mc:\\Users\\JANG JAE YOUNG\\.conda\\envs\\dddd\\lib\\zipfile.py:1376\u001b[0m, in \u001b[0;36mZipFile._RealGetContents\u001b[1;34m(self)\u001b[0m\n\u001b[0;32m   1374\u001b[0m     filename \u001b[39m=\u001b[39m filename\u001b[39m.\u001b[39mdecode(\u001b[39m'\u001b[39m\u001b[39mcp437\u001b[39m\u001b[39m'\u001b[39m)\n\u001b[0;32m   1375\u001b[0m \u001b[39m# Create ZipInfo instance to store file information\u001b[39;00m\n\u001b[1;32m-> 1376\u001b[0m x \u001b[39m=\u001b[39m ZipInfo(filename)\n\u001b[0;32m   1377\u001b[0m x\u001b[39m.\u001b[39mextra \u001b[39m=\u001b[39m fp\u001b[39m.\u001b[39mread(centdir[_CD_EXTRA_FIELD_LENGTH])\n\u001b[0;32m   1378\u001b[0m x\u001b[39m.\u001b[39mcomment \u001b[39m=\u001b[39m fp\u001b[39m.\u001b[39mread(centdir[_CD_COMMENT_LENGTH])\n",
      "File \u001b[1;32mc:\\Users\\JANG JAE YOUNG\\.conda\\envs\\dddd\\lib\\zipfile.py:355\u001b[0m, in \u001b[0;36mZipInfo.__init__\u001b[1;34m(self, filename, date_time)\u001b[0m\n\u001b[0;32m    351\u001b[0m     filename \u001b[39m=\u001b[39m filename[\u001b[39m0\u001b[39m:null_byte]\n\u001b[0;32m    352\u001b[0m \u001b[39m# This is used to ensure paths in generated ZIP files always use\u001b[39;00m\n\u001b[0;32m    353\u001b[0m \u001b[39m# forward slashes as the directory separator, as required by the\u001b[39;00m\n\u001b[0;32m    354\u001b[0m \u001b[39m# ZIP format specification.\u001b[39;00m\n\u001b[1;32m--> 355\u001b[0m \u001b[39mif\u001b[39;00m os\u001b[39m.\u001b[39;49msep \u001b[39m!=\u001b[39m \u001b[39m\"\u001b[39m\u001b[39m/\u001b[39m\u001b[39m\"\u001b[39m \u001b[39mand\u001b[39;00m os\u001b[39m.\u001b[39msep \u001b[39min\u001b[39;00m filename:\n\u001b[0;32m    356\u001b[0m     filename \u001b[39m=\u001b[39m filename\u001b[39m.\u001b[39mreplace(os\u001b[39m.\u001b[39msep, \u001b[39m\"\u001b[39m\u001b[39m/\u001b[39m\u001b[39m\"\u001b[39m)\n\u001b[0;32m    358\u001b[0m \u001b[39mself\u001b[39m\u001b[39m.\u001b[39mfilename \u001b[39m=\u001b[39m filename        \u001b[39m# Normalized file name\u001b[39;00m\n",
      "\u001b[1;31mKeyboardInterrupt\u001b[0m: "
     ]
    }
   ],
   "source": [
    "# 원하는 특정파일만 추출\n",
    "with zipfile.ZipFile(t_p, 'r') as zipObj:\n",
    "    ls = zipObj.namelist()\n",
    "print(ls)"
   ]
  },
  {
   "cell_type": "code",
   "execution_count": null,
   "metadata": {},
   "outputs": [],
   "source": []
  },
  {
   "cell_type": "code",
   "execution_count": 66,
   "metadata": {},
   "outputs": [
    {
     "ename": "KeyError",
     "evalue": "0",
     "output_type": "error",
     "traceback": [
      "\u001b[1;31m---------------------------------------------------------------------------\u001b[0m",
      "\u001b[1;31mKeyError\u001b[0m                                  Traceback (most recent call last)",
      "File \u001b[1;32mc:\\Users\\JANG JAE YOUNG\\.conda\\envs\\dddd\\lib\\site-packages\\pandas\\core\\indexes\\base.py:3361\u001b[0m, in \u001b[0;36mIndex.get_loc\u001b[1;34m(self, key, method, tolerance)\u001b[0m\n\u001b[0;32m   3360\u001b[0m \u001b[39mtry\u001b[39;00m:\n\u001b[1;32m-> 3361\u001b[0m     \u001b[39mreturn\u001b[39;00m \u001b[39mself\u001b[39;49m\u001b[39m.\u001b[39;49m_engine\u001b[39m.\u001b[39;49mget_loc(casted_key)\n\u001b[0;32m   3362\u001b[0m \u001b[39mexcept\u001b[39;00m \u001b[39mKeyError\u001b[39;00m \u001b[39mas\u001b[39;00m err:\n",
      "File \u001b[1;32mc:\\Users\\JANG JAE YOUNG\\.conda\\envs\\dddd\\lib\\site-packages\\pandas\\_libs\\index.pyx:76\u001b[0m, in \u001b[0;36mpandas._libs.index.IndexEngine.get_loc\u001b[1;34m()\u001b[0m\n",
      "File \u001b[1;32mc:\\Users\\JANG JAE YOUNG\\.conda\\envs\\dddd\\lib\\site-packages\\pandas\\_libs\\index.pyx:108\u001b[0m, in \u001b[0;36mpandas._libs.index.IndexEngine.get_loc\u001b[1;34m()\u001b[0m\n",
      "File \u001b[1;32mpandas\\_libs\\hashtable_class_helper.pxi:5198\u001b[0m, in \u001b[0;36mpandas._libs.hashtable.PyObjectHashTable.get_item\u001b[1;34m()\u001b[0m\n",
      "File \u001b[1;32mpandas\\_libs\\hashtable_class_helper.pxi:5206\u001b[0m, in \u001b[0;36mpandas._libs.hashtable.PyObjectHashTable.get_item\u001b[1;34m()\u001b[0m\n",
      "\u001b[1;31mKeyError\u001b[0m: 0",
      "\nThe above exception was the direct cause of the following exception:\n",
      "\u001b[1;31mKeyError\u001b[0m                                  Traceback (most recent call last)",
      "\u001b[1;32md:\\새 폴더\\비대면 진료를 위한 의료진 및 환자 음성\\fir.ipynb 셀 54\u001b[0m in \u001b[0;36m<cell line: 2>\u001b[1;34m()\u001b[0m\n\u001b[0;32m      <a href='vscode-notebook-cell:/d%3A/%EC%83%88%20%ED%8F%B4%EB%8D%94/%EB%B9%84%EB%8C%80%EB%A9%B4%20%EC%A7%84%EB%A3%8C%EB%A5%BC%20%EC%9C%84%ED%95%9C%20%EC%9D%98%EB%A3%8C%EC%A7%84%20%EB%B0%8F%20%ED%99%98%EC%9E%90%20%EC%9D%8C%EC%84%B1/fir.ipynb#Y102sZmlsZQ%3D%3D?line=0'>1</a>\u001b[0m wav_lis \u001b[39m=\u001b[39m []\n\u001b[0;32m      <a href='vscode-notebook-cell:/d%3A/%EC%83%88%20%ED%8F%B4%EB%8D%94/%EB%B9%84%EB%8C%80%EB%A9%B4%20%EC%A7%84%EB%A3%8C%EB%A5%BC%20%EC%9C%84%ED%95%9C%20%EC%9D%98%EB%A3%8C%EC%A7%84%20%EB%B0%8F%20%ED%99%98%EC%9E%90%20%EC%9D%8C%EC%84%B1/fir.ipynb#Y102sZmlsZQ%3D%3D?line=1'>2</a>\u001b[0m \u001b[39mfor\u001b[39;00m i \u001b[39min\u001b[39;00m \u001b[39mrange\u001b[39m(\u001b[39m20\u001b[39m):\n\u001b[1;32m----> <a href='vscode-notebook-cell:/d%3A/%EC%83%88%20%ED%8F%B4%EB%8D%94/%EB%B9%84%EB%8C%80%EB%A9%B4%20%EC%A7%84%EB%A3%8C%EB%A5%BC%20%EC%9C%84%ED%95%9C%20%EC%9D%98%EB%A3%8C%EC%A7%84%20%EB%B0%8F%20%ED%99%98%EC%9E%90%20%EC%9D%8C%EC%84%B1/fir.ipynb#Y102sZmlsZQ%3D%3D?line=2'>3</a>\u001b[0m     wav_lis\u001b[39m.\u001b[39mappend(a[i])\n\u001b[0;32m      <a href='vscode-notebook-cell:/d%3A/%EC%83%88%20%ED%8F%B4%EB%8D%94/%EB%B9%84%EB%8C%80%EB%A9%B4%20%EC%A7%84%EB%A3%8C%EB%A5%BC%20%EC%9C%84%ED%95%9C%20%EC%9D%98%EB%A3%8C%EC%A7%84%20%EB%B0%8F%20%ED%99%98%EC%9E%90%20%EC%9D%8C%EC%84%B1/fir.ipynb#Y102sZmlsZQ%3D%3D?line=3'>4</a>\u001b[0m     wav_lis\u001b[39m.\u001b[39mappend(b[i])\n\u001b[0;32m      <a href='vscode-notebook-cell:/d%3A/%EC%83%88%20%ED%8F%B4%EB%8D%94/%EB%B9%84%EB%8C%80%EB%A9%B4%20%EC%A7%84%EB%A3%8C%EB%A5%BC%20%EC%9C%84%ED%95%9C%20%EC%9D%98%EB%A3%8C%EC%A7%84%20%EB%B0%8F%20%ED%99%98%EC%9E%90%20%EC%9D%8C%EC%84%B1/fir.ipynb#Y102sZmlsZQ%3D%3D?line=4'>5</a>\u001b[0m     wav_lis\u001b[39m.\u001b[39mappend(c[i])\n",
      "File \u001b[1;32mc:\\Users\\JANG JAE YOUNG\\.conda\\envs\\dddd\\lib\\site-packages\\pandas\\core\\frame.py:3458\u001b[0m, in \u001b[0;36mDataFrame.__getitem__\u001b[1;34m(self, key)\u001b[0m\n\u001b[0;32m   3456\u001b[0m \u001b[39mif\u001b[39;00m \u001b[39mself\u001b[39m\u001b[39m.\u001b[39mcolumns\u001b[39m.\u001b[39mnlevels \u001b[39m>\u001b[39m \u001b[39m1\u001b[39m:\n\u001b[0;32m   3457\u001b[0m     \u001b[39mreturn\u001b[39;00m \u001b[39mself\u001b[39m\u001b[39m.\u001b[39m_getitem_multilevel(key)\n\u001b[1;32m-> 3458\u001b[0m indexer \u001b[39m=\u001b[39m \u001b[39mself\u001b[39;49m\u001b[39m.\u001b[39;49mcolumns\u001b[39m.\u001b[39;49mget_loc(key)\n\u001b[0;32m   3459\u001b[0m \u001b[39mif\u001b[39;00m is_integer(indexer):\n\u001b[0;32m   3460\u001b[0m     indexer \u001b[39m=\u001b[39m [indexer]\n",
      "File \u001b[1;32mc:\\Users\\JANG JAE YOUNG\\.conda\\envs\\dddd\\lib\\site-packages\\pandas\\core\\indexes\\base.py:3363\u001b[0m, in \u001b[0;36mIndex.get_loc\u001b[1;34m(self, key, method, tolerance)\u001b[0m\n\u001b[0;32m   3361\u001b[0m         \u001b[39mreturn\u001b[39;00m \u001b[39mself\u001b[39m\u001b[39m.\u001b[39m_engine\u001b[39m.\u001b[39mget_loc(casted_key)\n\u001b[0;32m   3362\u001b[0m     \u001b[39mexcept\u001b[39;00m \u001b[39mKeyError\u001b[39;00m \u001b[39mas\u001b[39;00m err:\n\u001b[1;32m-> 3363\u001b[0m         \u001b[39mraise\u001b[39;00m \u001b[39mKeyError\u001b[39;00m(key) \u001b[39mfrom\u001b[39;00m \u001b[39merr\u001b[39;00m\n\u001b[0;32m   3365\u001b[0m \u001b[39mif\u001b[39;00m is_scalar(key) \u001b[39mand\u001b[39;00m isna(key) \u001b[39mand\u001b[39;00m \u001b[39mnot\u001b[39;00m \u001b[39mself\u001b[39m\u001b[39m.\u001b[39mhasnans:\n\u001b[0;32m   3366\u001b[0m     \u001b[39mraise\u001b[39;00m \u001b[39mKeyError\u001b[39;00m(key)\n",
      "\u001b[1;31mKeyError\u001b[0m: 0"
     ]
    }
   ],
   "source": [
    "wav_lis = []\n",
    "for i in range(20):\n",
    "    wav_lis.append(a[i])\n",
    "    wav_lis.append(b[i])\n",
    "    wav_lis.append(c[i])"
   ]
  },
  {
   "cell_type": "code",
   "execution_count": null,
   "metadata": {},
   "outputs": [],
   "source": []
  },
  {
   "cell_type": "code",
   "execution_count": null,
   "metadata": {},
   "outputs": [],
   "source": []
  },
  {
   "cell_type": "code",
   "execution_count": null,
   "metadata": {},
   "outputs": [],
   "source": []
  },
  {
   "cell_type": "code",
   "execution_count": null,
   "metadata": {},
   "outputs": [],
   "source": []
  },
  {
   "cell_type": "code",
   "execution_count": null,
   "metadata": {},
   "outputs": [],
   "source": []
  },
  {
   "cell_type": "code",
   "execution_count": null,
   "metadata": {},
   "outputs": [],
   "source": []
  },
  {
   "cell_type": "code",
   "execution_count": null,
   "metadata": {},
   "outputs": [],
   "source": []
  },
  {
   "cell_type": "code",
   "execution_count": null,
   "metadata": {},
   "outputs": [],
   "source": []
  },
  {
   "cell_type": "code",
   "execution_count": null,
   "metadata": {},
   "outputs": [],
   "source": []
  },
  {
   "cell_type": "code",
   "execution_count": null,
   "metadata": {},
   "outputs": [],
   "source": []
  },
  {
   "cell_type": "code",
   "execution_count": null,
   "metadata": {},
   "outputs": [],
   "source": []
  },
  {
   "cell_type": "code",
   "execution_count": null,
   "metadata": {},
   "outputs": [],
   "source": []
  },
  {
   "cell_type": "code",
   "execution_count": null,
   "metadata": {},
   "outputs": [],
   "source": []
  },
  {
   "cell_type": "code",
   "execution_count": null,
   "metadata": {},
   "outputs": [],
   "source": []
  },
  {
   "cell_type": "code",
   "execution_count": null,
   "metadata": {},
   "outputs": [],
   "source": []
  },
  {
   "cell_type": "code",
   "execution_count": null,
   "metadata": {},
   "outputs": [],
   "source": []
  },
  {
   "cell_type": "code",
   "execution_count": null,
   "metadata": {},
   "outputs": [],
   "source": []
  },
  {
   "cell_type": "code",
   "execution_count": null,
   "metadata": {},
   "outputs": [],
   "source": []
  },
  {
   "cell_type": "code",
   "execution_count": null,
   "metadata": {},
   "outputs": [],
   "source": []
  },
  {
   "cell_type": "code",
   "execution_count": null,
   "metadata": {},
   "outputs": [],
   "source": []
  },
  {
   "cell_type": "code",
   "execution_count": null,
   "metadata": {},
   "outputs": [],
   "source": []
  },
  {
   "cell_type": "code",
   "execution_count": null,
   "metadata": {},
   "outputs": [],
   "source": []
  },
  {
   "cell_type": "code",
   "execution_count": null,
   "metadata": {},
   "outputs": [],
   "source": []
  },
  {
   "cell_type": "code",
   "execution_count": null,
   "metadata": {},
   "outputs": [],
   "source": []
  },
  {
   "cell_type": "code",
   "execution_count": null,
   "metadata": {},
   "outputs": [],
   "source": []
  },
  {
   "cell_type": "code",
   "execution_count": 156,
   "metadata": {},
   "outputs": [
    {
     "data": {
      "text/plain": [
       "array([2., 2., 2.])"
      ]
     },
     "execution_count": 156,
     "metadata": {},
     "output_type": "execute_result"
    }
   ],
   "source": [
    "# array > np.append\n",
    "# np.concatenate\n",
    "# a = np.ones(3,int)\n",
    "b = np.full(3,2)\n",
    "# c = np.full(3,2)\n",
    "\n",
    "\n",
    "# 빈 배열에 1차원 concat 하는 예시인데 직선으로만 추가 가능해서 axis=0만 존재\n",
    "a = np.array([])\n",
    "np.concatenate([a,b])\n",
    "\n",
    "\n",
    "# arr = np.empty((0,3),int)\n",
    "# arr = np.append(arr,np.array([[1,2,3]]),axis=0)\n",
    "# arr = np.append(arr,np.array([[4,5,0]]),axis=0)\n",
    "# arr"
   ]
  },
  {
   "cell_type": "code",
   "execution_count": 255,
   "metadata": {},
   "outputs": [
    {
     "name": "stderr",
     "output_type": "stream",
     "text": [
      "100%|██████████| 100/100 [00:00<00:00, 108.98it/s]"
     ]
    },
    {
     "name": "stdout",
     "output_type": "stream",
     "text": [
      "0.9225649833679199\n"
     ]
    },
    {
     "name": "stderr",
     "output_type": "stream",
     "text": [
      "\n"
     ]
    }
   ],
   "source": [
    "# pandas time\n",
    "person = pd.DataFrame()\n",
    "all = pd.DataFrame()\n",
    "num = 0\n",
    "t_json_random = random.sample(t_json,100)\n",
    "start = time.time()\n",
    "for i in tqdm(t_json_random):\n",
    "    with open (i, \"r\",encoding='utf-8') as f:\n",
    "        json_data_load = json.load(f)\n",
    "        for k,j in enumerate(json_data_load.keys()):\n",
    "            a = pd.DataFrame.from_dict(json_data_load.get(j),orient='index')\n",
    "            if k < 6:\n",
    "                person = pd.concat([person,a])\n",
    "            else:\n",
    "                person = pd.concat([person,a])\n",
    "                person.columns = [num]\n",
    "                all = pd.concat([all,person],axis =1)\n",
    "                person = pd.DataFrame()\n",
    "                num += 1\n",
    "\n",
    "end = time.time()\n",
    "print(end - start)"
   ]
  },
  {
   "cell_type": "code",
   "execution_count": 24,
   "metadata": {},
   "outputs": [
    {
     "data": {
      "text/html": [
       "<div>\n",
       "<style scoped>\n",
       "    .dataframe tbody tr th:only-of-type {\n",
       "        vertical-align: middle;\n",
       "    }\n",
       "\n",
       "    .dataframe tbody tr th {\n",
       "        vertical-align: top;\n",
       "    }\n",
       "\n",
       "    .dataframe thead th {\n",
       "        text-align: right;\n",
       "    }\n",
       "</style>\n",
       "<table border=\"1\" class=\"dataframe\">\n",
       "  <thead>\n",
       "    <tr style=\"text-align: right;\">\n",
       "      <th></th>\n",
       "      <th>0</th>\n",
       "      <th>1</th>\n",
       "      <th>2</th>\n",
       "      <th>3</th>\n",
       "      <th>4</th>\n",
       "      <th>5</th>\n",
       "      <th>6</th>\n",
       "      <th>7</th>\n",
       "      <th>8</th>\n",
       "      <th>9</th>\n",
       "      <th>...</th>\n",
       "      <th>90</th>\n",
       "      <th>91</th>\n",
       "      <th>92</th>\n",
       "      <th>93</th>\n",
       "      <th>94</th>\n",
       "      <th>95</th>\n",
       "      <th>96</th>\n",
       "      <th>97</th>\n",
       "      <th>98</th>\n",
       "      <th>99</th>\n",
       "    </tr>\n",
       "  </thead>\n",
       "  <tbody>\n",
       "    <tr>\n",
       "      <th>Language</th>\n",
       "      <td>KOR</td>\n",
       "      <td>KOR</td>\n",
       "      <td>KOR</td>\n",
       "      <td>KOR</td>\n",
       "      <td>KOR</td>\n",
       "      <td>KOR</td>\n",
       "      <td>KOR</td>\n",
       "      <td>KOR</td>\n",
       "      <td>KOR</td>\n",
       "      <td>KOR</td>\n",
       "      <td>...</td>\n",
       "      <td>KOR</td>\n",
       "      <td>KOR</td>\n",
       "      <td>KOR</td>\n",
       "      <td>KOR</td>\n",
       "      <td>KOR</td>\n",
       "      <td>KOR</td>\n",
       "      <td>KOR</td>\n",
       "      <td>KOR</td>\n",
       "      <td>KOR</td>\n",
       "      <td>KOR</td>\n",
       "    </tr>\n",
       "    <tr>\n",
       "      <th>Version</th>\n",
       "      <td>N/A</td>\n",
       "      <td>N/A</td>\n",
       "      <td>N/A</td>\n",
       "      <td>N/A</td>\n",
       "      <td>N/A</td>\n",
       "      <td>N/A</td>\n",
       "      <td>N/A</td>\n",
       "      <td>N/A</td>\n",
       "      <td>N/A</td>\n",
       "      <td>N/A</td>\n",
       "      <td>...</td>\n",
       "      <td>N/A</td>\n",
       "      <td>N/A</td>\n",
       "      <td>N/A</td>\n",
       "      <td>N/A</td>\n",
       "      <td>N/A</td>\n",
       "      <td>N/A</td>\n",
       "      <td>N/A</td>\n",
       "      <td>N/A</td>\n",
       "      <td>N/A</td>\n",
       "      <td>N/A</td>\n",
       "    </tr>\n",
       "  </tbody>\n",
       "</table>\n",
       "<p>2 rows × 100 columns</p>\n",
       "</div>"
      ],
      "text/plain": [
       "           0    1    2    3    4    5    6    7    8    9   ...   90   91  \\\n",
       "Language  KOR  KOR  KOR  KOR  KOR  KOR  KOR  KOR  KOR  KOR  ...  KOR  KOR   \n",
       "Version   N/A  N/A  N/A  N/A  N/A  N/A  N/A  N/A  N/A  N/A  ...  N/A  N/A   \n",
       "\n",
       "           92   93   94   95   96   97   98   99  \n",
       "Language  KOR  KOR  KOR  KOR  KOR  KOR  KOR  KOR  \n",
       "Version   N/A  N/A  N/A  N/A  N/A  N/A  N/A  N/A  \n",
       "\n",
       "[2 rows x 100 columns]"
      ]
     },
     "execution_count": 24,
     "metadata": {},
     "output_type": "execute_result"
    }
   ],
   "source": [
    "all[:2]"
   ]
  },
  {
   "cell_type": "code",
   "execution_count": 41,
   "metadata": {},
   "outputs": [
    {
     "data": {
      "text/plain": [
       "array([['KOR', 'KOR', 'KOR', ..., 'KOR', 'KOR', 'KOR'],\n",
       "       ['N/A', 'N/A', 'N/A', ..., 'N/A', 'N/A', 'N/A'],\n",
       "       ['N/A', 'N/A', 'N/A', ..., 'N/A', 'N/A', 'N/A'],\n",
       "       ...,\n",
       "       ['0', '0', '0', ..., '0', '0', '0'],\n",
       "       ['30', '30', '30', ..., '30', '30', '30'],\n",
       "       ['Good', 'Good', 'Good', ..., 'Good', 'Good', 'Good']],\n",
       "      dtype=object)"
      ]
     },
     "execution_count": 41,
     "metadata": {},
     "output_type": "execute_result"
    }
   ],
   "source": [
    "all.to_numpy()"
   ]
  },
  {
   "cell_type": "code",
   "execution_count": 11,
   "metadata": {},
   "outputs": [],
   "source": [
    "all_t = all.transpose()"
   ]
  },
  {
   "cell_type": "code",
   "execution_count": 12,
   "metadata": {},
   "outputs": [
    {
     "data": {
      "text/html": [
       "<div>\n",
       "<style scoped>\n",
       "    .dataframe tbody tr th:only-of-type {\n",
       "        vertical-align: middle;\n",
       "    }\n",
       "\n",
       "    .dataframe tbody tr th {\n",
       "        vertical-align: top;\n",
       "    }\n",
       "\n",
       "    .dataframe thead th {\n",
       "        text-align: right;\n",
       "    }\n",
       "</style>\n",
       "<table border=\"1\" class=\"dataframe\">\n",
       "  <thead>\n",
       "    <tr style=\"text-align: right;\">\n",
       "      <th></th>\n",
       "      <th>Language</th>\n",
       "      <th>Version</th>\n",
       "      <th>ApplicationCategory</th>\n",
       "      <th>NumberOfSpeaker</th>\n",
       "      <th>NumberOfUtterance</th>\n",
       "      <th>DataCategory</th>\n",
       "      <th>RecordingDate</th>\n",
       "      <th>FillingDate</th>\n",
       "      <th>RevisionHistory</th>\n",
       "      <th>Distributor</th>\n",
       "      <th>...</th>\n",
       "      <th>FileCategory</th>\n",
       "      <th>FileName</th>\n",
       "      <th>DirectoryPath</th>\n",
       "      <th>HeaderSize</th>\n",
       "      <th>FileLength</th>\n",
       "      <th>FileFormat</th>\n",
       "      <th>NumberOfRepeat</th>\n",
       "      <th>TimeInterval</th>\n",
       "      <th>Distance</th>\n",
       "      <th>QualityStatus</th>\n",
       "    </tr>\n",
       "  </thead>\n",
       "  <tbody>\n",
       "    <tr>\n",
       "      <th>0</th>\n",
       "      <td>KOR</td>\n",
       "      <td>N/A</td>\n",
       "      <td>N/A</td>\n",
       "      <td>N/A</td>\n",
       "      <td>N/A</td>\n",
       "      <td>mariaDB</td>\n",
       "      <td>2021-02-04 02:56:50</td>\n",
       "      <td>N/A</td>\n",
       "      <td>N/A</td>\n",
       "      <td>Mediazen</td>\n",
       "      <td>...</td>\n",
       "      <td>Audio</td>\n",
       "      <td>HB_0430-2302-01-01-M-04-A.wav</td>\n",
       "      <td>/nia/HB/data/HB_0430</td>\n",
       "      <td>44</td>\n",
       "      <td>3.00</td>\n",
       "      <td>PCM</td>\n",
       "      <td>1</td>\n",
       "      <td>0</td>\n",
       "      <td>30</td>\n",
       "      <td>Good</td>\n",
       "    </tr>\n",
       "    <tr>\n",
       "      <th>1</th>\n",
       "      <td>KOR</td>\n",
       "      <td>N/A</td>\n",
       "      <td>N/A</td>\n",
       "      <td>N/A</td>\n",
       "      <td>N/A</td>\n",
       "      <td>mariaDB</td>\n",
       "      <td>2021-02-14 12:04:35</td>\n",
       "      <td>N/A</td>\n",
       "      <td>N/A</td>\n",
       "      <td>Mediazen</td>\n",
       "      <td>...</td>\n",
       "      <td>Audio</td>\n",
       "      <td>HB_0107-381-01-01-M-04-B.wav</td>\n",
       "      <td>/nia/HB/data/HB_0107</td>\n",
       "      <td>44</td>\n",
       "      <td>2.28</td>\n",
       "      <td>PCM</td>\n",
       "      <td>1</td>\n",
       "      <td>0</td>\n",
       "      <td>30</td>\n",
       "      <td>Good</td>\n",
       "    </tr>\n",
       "    <tr>\n",
       "      <th>2</th>\n",
       "      <td>KOR</td>\n",
       "      <td>N/A</td>\n",
       "      <td>N/A</td>\n",
       "      <td>N/A</td>\n",
       "      <td>N/A</td>\n",
       "      <td>mariaDB</td>\n",
       "      <td>2020-12-28 15:20:51</td>\n",
       "      <td>N/A</td>\n",
       "      <td>N/A</td>\n",
       "      <td>Mediazen</td>\n",
       "      <td>...</td>\n",
       "      <td>Audio</td>\n",
       "      <td>PA_0089-1047-01-03-F-05-B.wav</td>\n",
       "      <td>/nia/metrixB/data/PA_0089</td>\n",
       "      <td>44</td>\n",
       "      <td>2.10</td>\n",
       "      <td>PCM</td>\n",
       "      <td>1</td>\n",
       "      <td>0</td>\n",
       "      <td>30</td>\n",
       "      <td>Good</td>\n",
       "    </tr>\n",
       "    <tr>\n",
       "      <th>3</th>\n",
       "      <td>KOR</td>\n",
       "      <td>N/A</td>\n",
       "      <td>N/A</td>\n",
       "      <td>N/A</td>\n",
       "      <td>N/A</td>\n",
       "      <td>mariaDB</td>\n",
       "      <td>2021-01-24 12:02:24</td>\n",
       "      <td>N/A</td>\n",
       "      <td>N/A</td>\n",
       "      <td>Mediazen</td>\n",
       "      <td>...</td>\n",
       "      <td>Audio</td>\n",
       "      <td>HA_0880-4391-01-02-F-06-A.wav</td>\n",
       "      <td>/nia/HA/data/HA_0880</td>\n",
       "      <td>44</td>\n",
       "      <td>2.82</td>\n",
       "      <td>PCM</td>\n",
       "      <td>1</td>\n",
       "      <td>0</td>\n",
       "      <td>30</td>\n",
       "      <td>Good</td>\n",
       "    </tr>\n",
       "    <tr>\n",
       "      <th>4</th>\n",
       "      <td>KOR</td>\n",
       "      <td>N/A</td>\n",
       "      <td>N/A</td>\n",
       "      <td>N/A</td>\n",
       "      <td>N/A</td>\n",
       "      <td>mariaDB</td>\n",
       "      <td>2021-01-06 12:37:05</td>\n",
       "      <td>N/A</td>\n",
       "      <td>N/A</td>\n",
       "      <td>Mediazen</td>\n",
       "      <td>...</td>\n",
       "      <td>Audio</td>\n",
       "      <td>PE_0169-17896-01-03-F-09-A.wav</td>\n",
       "      <td>/nia/metrixB/data/PE_0169</td>\n",
       "      <td>44</td>\n",
       "      <td>7.02</td>\n",
       "      <td>PCM</td>\n",
       "      <td>1</td>\n",
       "      <td>0</td>\n",
       "      <td>30</td>\n",
       "      <td>Good</td>\n",
       "    </tr>\n",
       "  </tbody>\n",
       "</table>\n",
       "<p>5 rows × 34 columns</p>\n",
       "</div>"
      ],
      "text/plain": [
       "  Language Version ApplicationCategory NumberOfSpeaker NumberOfUtterance  \\\n",
       "0      KOR     N/A                 N/A             N/A               N/A   \n",
       "1      KOR     N/A                 N/A             N/A               N/A   \n",
       "2      KOR     N/A                 N/A             N/A               N/A   \n",
       "3      KOR     N/A                 N/A             N/A               N/A   \n",
       "4      KOR     N/A                 N/A             N/A               N/A   \n",
       "\n",
       "  DataCategory        RecordingDate FillingDate RevisionHistory Distributor  \\\n",
       "0      mariaDB  2021-02-04 02:56:50         N/A             N/A    Mediazen   \n",
       "1      mariaDB  2021-02-14 12:04:35         N/A             N/A    Mediazen   \n",
       "2      mariaDB  2020-12-28 15:20:51         N/A             N/A    Mediazen   \n",
       "3      mariaDB  2021-01-24 12:02:24         N/A             N/A    Mediazen   \n",
       "4      mariaDB  2021-01-06 12:37:05         N/A             N/A    Mediazen   \n",
       "\n",
       "   ... FileCategory                        FileName  \\\n",
       "0  ...        Audio   HB_0430-2302-01-01-M-04-A.wav   \n",
       "1  ...        Audio    HB_0107-381-01-01-M-04-B.wav   \n",
       "2  ...        Audio   PA_0089-1047-01-03-F-05-B.wav   \n",
       "3  ...        Audio   HA_0880-4391-01-02-F-06-A.wav   \n",
       "4  ...        Audio  PE_0169-17896-01-03-F-09-A.wav   \n",
       "\n",
       "               DirectoryPath HeaderSize FileLength FileFormat NumberOfRepeat  \\\n",
       "0       /nia/HB/data/HB_0430         44       3.00        PCM              1   \n",
       "1       /nia/HB/data/HB_0107         44       2.28        PCM              1   \n",
       "2  /nia/metrixB/data/PA_0089         44       2.10        PCM              1   \n",
       "3       /nia/HA/data/HA_0880         44       2.82        PCM              1   \n",
       "4  /nia/metrixB/data/PE_0169         44       7.02        PCM              1   \n",
       "\n",
       "  TimeInterval Distance QualityStatus  \n",
       "0            0       30          Good  \n",
       "1            0       30          Good  \n",
       "2            0       30          Good  \n",
       "3            0       30          Good  \n",
       "4            0       30          Good  \n",
       "\n",
       "[5 rows x 34 columns]"
      ]
     },
     "execution_count": 12,
     "metadata": {},
     "output_type": "execute_result"
    }
   ],
   "source": [
    "all_t.head()"
   ]
  },
  {
   "cell_type": "code",
   "execution_count": 13,
   "metadata": {},
   "outputs": [
    {
     "data": {
      "text/html": [
       "<div>\n",
       "<style scoped>\n",
       "    .dataframe tbody tr th:only-of-type {\n",
       "        vertical-align: middle;\n",
       "    }\n",
       "\n",
       "    .dataframe tbody tr th {\n",
       "        vertical-align: top;\n",
       "    }\n",
       "\n",
       "    .dataframe thead th {\n",
       "        text-align: right;\n",
       "    }\n",
       "</style>\n",
       "<table border=\"1\" class=\"dataframe\">\n",
       "  <thead>\n",
       "    <tr style=\"text-align: right;\">\n",
       "      <th></th>\n",
       "      <th>SamplingRate</th>\n",
       "      <th>SignalToNoiseRatio</th>\n",
       "      <th>NumberOfBit</th>\n",
       "      <th>NumberOfChannel</th>\n",
       "    </tr>\n",
       "  </thead>\n",
       "  <tbody>\n",
       "    <tr>\n",
       "      <th>0</th>\n",
       "      <td>48000</td>\n",
       "      <td>N/A</td>\n",
       "      <td>16</td>\n",
       "      <td>1</td>\n",
       "    </tr>\n",
       "    <tr>\n",
       "      <th>1</th>\n",
       "      <td>48000</td>\n",
       "      <td>N/A</td>\n",
       "      <td>16</td>\n",
       "      <td>1</td>\n",
       "    </tr>\n",
       "    <tr>\n",
       "      <th>2</th>\n",
       "      <td>48000</td>\n",
       "      <td>N/A</td>\n",
       "      <td>16</td>\n",
       "      <td>1</td>\n",
       "    </tr>\n",
       "    <tr>\n",
       "      <th>3</th>\n",
       "      <td>48000</td>\n",
       "      <td>N/A</td>\n",
       "      <td>16</td>\n",
       "      <td>1</td>\n",
       "    </tr>\n",
       "    <tr>\n",
       "      <th>4</th>\n",
       "      <td>48000</td>\n",
       "      <td>N/A</td>\n",
       "      <td>16</td>\n",
       "      <td>1</td>\n",
       "    </tr>\n",
       "    <tr>\n",
       "      <th>...</th>\n",
       "      <td>...</td>\n",
       "      <td>...</td>\n",
       "      <td>...</td>\n",
       "      <td>...</td>\n",
       "    </tr>\n",
       "    <tr>\n",
       "      <th>995</th>\n",
       "      <td>48000</td>\n",
       "      <td>N/A</td>\n",
       "      <td>16</td>\n",
       "      <td>1</td>\n",
       "    </tr>\n",
       "    <tr>\n",
       "      <th>996</th>\n",
       "      <td>48000</td>\n",
       "      <td>N/A</td>\n",
       "      <td>16</td>\n",
       "      <td>1</td>\n",
       "    </tr>\n",
       "    <tr>\n",
       "      <th>997</th>\n",
       "      <td>48000</td>\n",
       "      <td>N/A</td>\n",
       "      <td>16</td>\n",
       "      <td>1</td>\n",
       "    </tr>\n",
       "    <tr>\n",
       "      <th>998</th>\n",
       "      <td>48000</td>\n",
       "      <td>N/A</td>\n",
       "      <td>16</td>\n",
       "      <td>1</td>\n",
       "    </tr>\n",
       "    <tr>\n",
       "      <th>999</th>\n",
       "      <td>48000</td>\n",
       "      <td>N/A</td>\n",
       "      <td>16</td>\n",
       "      <td>1</td>\n",
       "    </tr>\n",
       "  </tbody>\n",
       "</table>\n",
       "<p>1000 rows × 4 columns</p>\n",
       "</div>"
      ],
      "text/plain": [
       "    SamplingRate SignalToNoiseRatio NumberOfBit NumberOfChannel\n",
       "0          48000                N/A          16               1\n",
       "1          48000                N/A          16               1\n",
       "2          48000                N/A          16               1\n",
       "3          48000                N/A          16               1\n",
       "4          48000                N/A          16               1\n",
       "..           ...                ...         ...             ...\n",
       "995        48000                N/A          16               1\n",
       "996        48000                N/A          16               1\n",
       "997        48000                N/A          16               1\n",
       "998        48000                N/A          16               1\n",
       "999        48000                N/A          16               1\n",
       "\n",
       "[1000 rows x 4 columns]"
      ]
     },
     "execution_count": 13,
     "metadata": {},
     "output_type": "execute_result"
    }
   ],
   "source": [
    "dd_df = all_t[['SamplingRate', 'SignalToNoiseRatio', 'NumberOfBit', 'NumberOfChannel']]\n",
    "dd_df"
   ]
  },
  {
   "cell_type": "code",
   "execution_count": 14,
   "metadata": {},
   "outputs": [
    {
     "name": "stdout",
     "output_type": "stream",
     "text": [
      "['48000']\n",
      "['N/A']\n",
      "['16']\n",
      "['1']\n"
     ]
    }
   ],
   "source": [
    "# 각 column의 고유값 확인\n",
    "sample = dd_df['SamplingRate'].unique()\n",
    "snr = dd_df['SignalToNoiseRatio'].unique()\n",
    "bit = dd_df['NumberOfBit'].unique()\n",
    "channel = dd_df['NumberOfChannel'].unique()\n",
    "print(f'{sample}\\n{snr}\\n{bit}\\n{channel}')"
   ]
  },
  {
   "cell_type": "code",
   "execution_count": 15,
   "metadata": {},
   "outputs": [
    {
     "data": {
      "text/plain": [
       "Language               0\n",
       "Version                0\n",
       "ApplicationCategory    0\n",
       "NumberOfSpeaker        0\n",
       "NumberOfUtterance      0\n",
       "DataCategory           0\n",
       "RecordingDate          0\n",
       "FillingDate            0\n",
       "RevisionHistory        0\n",
       "Distributor            0\n",
       "SamplingRate           0\n",
       "ByteOrder              0\n",
       "EncodingLaw            0\n",
       "NumberOfBit            0\n",
       "NumberOfChannel        0\n",
       "SignalToNoiseRatio     0\n",
       "LabelText              0\n",
       "Gender                 0\n",
       "Age                    0\n",
       "Region                 0\n",
       "Dialect                0\n",
       "RecordingEnviron       0\n",
       "NoiseEnviron           0\n",
       "RecordingDevice        0\n",
       "FileCategory           0\n",
       "FileName               0\n",
       "DirectoryPath          0\n",
       "HeaderSize             0\n",
       "FileLength             0\n",
       "FileFormat             0\n",
       "NumberOfRepeat         0\n",
       "TimeInterval           0\n",
       "Distance               0\n",
       "QualityStatus          0\n",
       "dtype: int64"
      ]
     },
     "execution_count": 15,
     "metadata": {},
     "output_type": "execute_result"
    }
   ],
   "source": [
    "# 전체 데이터 결측치 확인\n",
    "all_t.isnull().sum()"
   ]
  },
  {
   "cell_type": "code",
   "execution_count": 16,
   "metadata": {},
   "outputs": [
    {
     "data": {
      "text/plain": [
       "Index(['Language', 'Version', 'ApplicationCategory', 'NumberOfSpeaker',\n",
       "       'NumberOfUtterance', 'DataCategory', 'RecordingDate', 'FillingDate',\n",
       "       'RevisionHistory', 'Distributor', 'SamplingRate', 'ByteOrder',\n",
       "       'EncodingLaw', 'NumberOfBit', 'NumberOfChannel', 'SignalToNoiseRatio',\n",
       "       'LabelText', 'Gender', 'Age', 'Region', 'Dialect', 'RecordingEnviron',\n",
       "       'NoiseEnviron', 'RecordingDevice', 'FileCategory', 'FileName',\n",
       "       'DirectoryPath', 'HeaderSize', 'FileLength', 'FileFormat',\n",
       "       'NumberOfRepeat', 'TimeInterval', 'Distance', 'QualityStatus'],\n",
       "      dtype='object')"
      ]
     },
     "execution_count": 16,
     "metadata": {},
     "output_type": "execute_result"
    }
   ],
   "source": [
    "# N/A > 이곳에 값이 있어야하는데 값을 못늫은상태 출력이 됨, python에서는 nan,none를 결측치로 인식\n",
    "# null > 아무것도없음, 출력안댐\n",
    "all_t_col = all_t.columns\n",
    "all_t_col"
   ]
  },
  {
   "cell_type": "code",
   "execution_count": 43,
   "metadata": {},
   "outputs": [
    {
     "ename": "NameError",
     "evalue": "name 'all_t' is not defined",
     "output_type": "error",
     "traceback": [
      "\u001b[1;31m---------------------------------------------------------------------------\u001b[0m",
      "\u001b[1;31mNameError\u001b[0m                                 Traceback (most recent call last)",
      "\u001b[1;32md:\\새 폴더\\비대면 진료를 위한 의료진 및 환자 음성\\fir.ipynb 셀 69\u001b[0m in \u001b[0;36m<cell line: 1>\u001b[1;34m()\u001b[0m\n\u001b[1;32m----> <a href='vscode-notebook-cell:/d%3A/%EC%83%88%20%ED%8F%B4%EB%8D%94/%EB%B9%84%EB%8C%80%EB%A9%B4%20%EC%A7%84%EB%A3%8C%EB%A5%BC%20%EC%9C%84%ED%95%9C%20%EC%9D%98%EB%A3%8C%EC%A7%84%20%EB%B0%8F%20%ED%99%98%EC%9E%90%20%EC%9D%8C%EC%84%B1/fir.ipynb#Y125sZmlsZQ%3D%3D?line=0'>1</a>\u001b[0m categori_df \u001b[39m=\u001b[39m all_t[[\u001b[39m'\u001b[39m\u001b[39mVersion\u001b[39m\u001b[39m'\u001b[39m,\u001b[39m'\u001b[39m\u001b[39mGender\u001b[39m\u001b[39m'\u001b[39m,\u001b[39m'\u001b[39m\u001b[39mAge\u001b[39m\u001b[39m'\u001b[39m,\u001b[39m'\u001b[39m\u001b[39mRegion\u001b[39m\u001b[39m'\u001b[39m,\u001b[39m'\u001b[39m\u001b[39mDialect\u001b[39m\u001b[39m'\u001b[39m,\u001b[39m'\u001b[39m\u001b[39mLabelText\u001b[39m\u001b[39m'\u001b[39m]]\n\u001b[0;32m      <a href='vscode-notebook-cell:/d%3A/%EC%83%88%20%ED%8F%B4%EB%8D%94/%EB%B9%84%EB%8C%80%EB%A9%B4%20%EC%A7%84%EB%A3%8C%EB%A5%BC%20%EC%9C%84%ED%95%9C%20%EC%9D%98%EB%A3%8C%EC%A7%84%20%EB%B0%8F%20%ED%99%98%EC%9E%90%20%EC%9D%8C%EC%84%B1/fir.ipynb#Y125sZmlsZQ%3D%3D?line=1'>2</a>\u001b[0m categori_df\u001b[39m.\u001b[39mhead()\n",
      "\u001b[1;31mNameError\u001b[0m: name 'all_t' is not defined"
     ]
    }
   ],
   "source": [
    "categori_df = all_t[['Version','Gender','Age','Region','Dialect','LabelText']]\n",
    "categori_df.head()"
   ]
  },
  {
   "cell_type": "code",
   "execution_count": 44,
   "metadata": {},
   "outputs": [
    {
     "ename": "NameError",
     "evalue": "name 'categori_df' is not defined",
     "output_type": "error",
     "traceback": [
      "\u001b[1;31m---------------------------------------------------------------------------\u001b[0m",
      "\u001b[1;31mNameError\u001b[0m                                 Traceback (most recent call last)",
      "\u001b[1;32md:\\새 폴더\\비대면 진료를 위한 의료진 및 환자 음성\\fir.ipynb 셀 70\u001b[0m in \u001b[0;36m<cell line: 2>\u001b[1;34m()\u001b[0m\n\u001b[0;32m      <a href='vscode-notebook-cell:/d%3A/%EC%83%88%20%ED%8F%B4%EB%8D%94/%EB%B9%84%EB%8C%80%EB%A9%B4%20%EC%A7%84%EB%A3%8C%EB%A5%BC%20%EC%9C%84%ED%95%9C%20%EC%9D%98%EB%A3%8C%EC%A7%84%20%EB%B0%8F%20%ED%99%98%EC%9E%90%20%EC%9D%8C%EC%84%B1/fir.ipynb#Y126sZmlsZQ%3D%3D?line=0'>1</a>\u001b[0m \u001b[39m# 각 column의 고유값 확인\u001b[39;00m\n\u001b[1;32m----> <a href='vscode-notebook-cell:/d%3A/%EC%83%88%20%ED%8F%B4%EB%8D%94/%EB%B9%84%EB%8C%80%EB%A9%B4%20%EC%A7%84%EB%A3%8C%EB%A5%BC%20%EC%9C%84%ED%95%9C%20%EC%9D%98%EB%A3%8C%EC%A7%84%20%EB%B0%8F%20%ED%99%98%EC%9E%90%20%EC%9D%8C%EC%84%B1/fir.ipynb#Y126sZmlsZQ%3D%3D?line=1'>2</a>\u001b[0m ver \u001b[39m=\u001b[39m categori_df[\u001b[39m'\u001b[39m\u001b[39mVersion\u001b[39m\u001b[39m'\u001b[39m]\u001b[39m.\u001b[39munique()\n\u001b[0;32m      <a href='vscode-notebook-cell:/d%3A/%EC%83%88%20%ED%8F%B4%EB%8D%94/%EB%B9%84%EB%8C%80%EB%A9%B4%20%EC%A7%84%EB%A3%8C%EB%A5%BC%20%EC%9C%84%ED%95%9C%20%EC%9D%98%EB%A3%8C%EC%A7%84%20%EB%B0%8F%20%ED%99%98%EC%9E%90%20%EC%9D%8C%EC%84%B1/fir.ipynb#Y126sZmlsZQ%3D%3D?line=2'>3</a>\u001b[0m gen \u001b[39m=\u001b[39m categori_df[\u001b[39m'\u001b[39m\u001b[39mGender\u001b[39m\u001b[39m'\u001b[39m]\u001b[39m.\u001b[39munique()\n\u001b[0;32m      <a href='vscode-notebook-cell:/d%3A/%EC%83%88%20%ED%8F%B4%EB%8D%94/%EB%B9%84%EB%8C%80%EB%A9%B4%20%EC%A7%84%EB%A3%8C%EB%A5%BC%20%EC%9C%84%ED%95%9C%20%EC%9D%98%EB%A3%8C%EC%A7%84%20%EB%B0%8F%20%ED%99%98%EC%9E%90%20%EC%9D%8C%EC%84%B1/fir.ipynb#Y126sZmlsZQ%3D%3D?line=3'>4</a>\u001b[0m age \u001b[39m=\u001b[39m categori_df[\u001b[39m'\u001b[39m\u001b[39mAge\u001b[39m\u001b[39m'\u001b[39m]\u001b[39m.\u001b[39munique()\n",
      "\u001b[1;31mNameError\u001b[0m: name 'categori_df' is not defined"
     ]
    }
   ],
   "source": [
    "# 각 column의 고유값 확인\n",
    "ver = categori_df['Version'].unique()\n",
    "gen = categori_df['Gender'].unique()\n",
    "age = categori_df['Age'].unique()\n",
    "region = categori_df['Region'].unique()\n",
    "dialect = categori_df['Dialect'].unique()\n",
    "label = categori_df['LabelText'].unique()\n",
    "print(f'{ver}\\n{gen}\\n{age}\\n{region}\\n{dialect}')\n",
    "print(len(label))"
   ]
  },
  {
   "cell_type": "code",
   "execution_count": 45,
   "metadata": {},
   "outputs": [
    {
     "ename": "NameError",
     "evalue": "name 'categori_df' is not defined",
     "output_type": "error",
     "traceback": [
      "\u001b[1;31m---------------------------------------------------------------------------\u001b[0m",
      "\u001b[1;31mNameError\u001b[0m                                 Traceback (most recent call last)",
      "\u001b[1;32md:\\새 폴더\\비대면 진료를 위한 의료진 및 환자 음성\\fir.ipynb 셀 71\u001b[0m in \u001b[0;36m<cell line: 12>\u001b[1;34m()\u001b[0m\n\u001b[0;32m     <a href='vscode-notebook-cell:/d%3A/%EC%83%88%20%ED%8F%B4%EB%8D%94/%EB%B9%84%EB%8C%80%EB%A9%B4%20%EC%A7%84%EB%A3%8C%EB%A5%BC%20%EC%9C%84%ED%95%9C%20%EC%9D%98%EB%A3%8C%EC%A7%84%20%EB%B0%8F%20%ED%99%98%EC%9E%90%20%EC%9D%8C%EC%84%B1/fir.ipynb#Y130sZmlsZQ%3D%3D?line=9'>10</a>\u001b[0m             plt\u001b[39m.\u001b[39msubplot(grid[idx])\n\u001b[0;32m     <a href='vscode-notebook-cell:/d%3A/%EC%83%88%20%ED%8F%B4%EB%8D%94/%EB%B9%84%EB%8C%80%EB%A9%B4%20%EC%A7%84%EB%A3%8C%EB%A5%BC%20%EC%9C%84%ED%95%9C%20%EC%9D%98%EB%A3%8C%EC%A7%84%20%EB%B0%8F%20%ED%99%98%EC%9E%90%20%EC%9D%8C%EC%84%B1/fir.ipynb#Y130sZmlsZQ%3D%3D?line=10'>11</a>\u001b[0m             plt\u001b[39m.\u001b[39mhist(feature, data\u001b[39m=\u001b[39mdf)\n\u001b[1;32m---> <a href='vscode-notebook-cell:/d%3A/%EC%83%88%20%ED%8F%B4%EB%8D%94/%EB%B9%84%EB%8C%80%EB%A9%B4%20%EC%A7%84%EB%A3%8C%EB%A5%BC%20%EC%9C%84%ED%95%9C%20%EC%9D%98%EB%A3%8C%EC%A7%84%20%EB%B0%8F%20%ED%99%98%EC%9E%90%20%EC%9D%8C%EC%84%B1/fir.ipynb#Y130sZmlsZQ%3D%3D?line=11'>12</a>\u001b[0m hist_df(categori_df, [\u001b[39m'\u001b[39m\u001b[39mGender\u001b[39m\u001b[39m'\u001b[39m,\u001b[39m'\u001b[39m\u001b[39mAge\u001b[39m\u001b[39m'\u001b[39m,\u001b[39m'\u001b[39m\u001b[39mRegion\u001b[39m\u001b[39m'\u001b[39m,\u001b[39m'\u001b[39m\u001b[39mDialect\u001b[39m\u001b[39m'\u001b[39m], \u001b[39m2\u001b[39m, \u001b[39m2\u001b[39m)\n",
      "\u001b[1;31mNameError\u001b[0m: name 'categori_df' is not defined"
     ]
    }
   ],
   "source": [
    "# histogram - gender, age, region, dialect\n",
    "def hist_df(df,features, rows, cols, size=(10,10)):\n",
    "      plt.rcParams['font.family'] = 'Malgun Gothic'\n",
    "      mpl.rc('font',size=9)\n",
    "      plt.figure(figsize=(10,10))\n",
    "      grid = gridspec.GridSpec(rows,cols)\n",
    "      plt.subplots_adjust(wspace=0.2, hspace=0.2)\n",
    "      \n",
    "      for idx, feature in enumerate(features):\n",
    "            plt.subplot(grid[idx])\n",
    "            plt.hist(feature, data=df)\n",
    "hist_df(categori_df, ['Gender','Age','Region','Dialect'], 2, 2)"
   ]
  },
  {
   "cell_type": "code",
   "execution_count": 22,
   "metadata": {},
   "outputs": [
    {
     "data": {
      "text/plain": [
       "<matplotlib.collections.PathCollection at 0x1cd15a474c0>"
      ]
     },
     "execution_count": 22,
     "metadata": {},
     "output_type": "execute_result"
    },
    {
     "data": {
      "image/png": "[encoded data removed]",
      "text/plain": [
       "<Figure size 432x288 with 1 Axes>"
      ]
     },
     "metadata": {
      "needs_background": "light"
     },
     "output_type": "display_data"
    }
   ],
   "source": [
    "# bar plot - gender, age, region, dialect\n",
    "def bar_feature(df,features, rows, cols, size=(15,25)):\n",
    "  plt.rcParams['font.family'] = 'Malgun Gothic'    \n",
    "  mpl.rc('font',size=9)\n",
    "  plt.figure(figsize=(15,15))\n",
    "  grid = gridspec.GridSpec(rows,cols)\n",
    "  plt.subplots_adjust(wspace=0.3, hspace=1)\n",
    "\n",
    "  for idx, feature in enumerate(features):\n",
    "    ax = plt.subplot(grid[idx])\n",
    "    sns.barplot(x=feature, y='Survival period', data = df, palette='Set2',ax=ax)\n",
    "\n",
    "bar_df = his"
   ]
  },
  {
   "cell_type": "code",
   "execution_count": 23,
   "metadata": {},
   "outputs": [
    {
     "data": {
      "text/html": [
       "<div>\n",
       "<style scoped>\n",
       "    .dataframe tbody tr th:only-of-type {\n",
       "        vertical-align: middle;\n",
       "    }\n",
       "\n",
       "    .dataframe tbody tr th {\n",
       "        vertical-align: top;\n",
       "    }\n",
       "\n",
       "    .dataframe thead th {\n",
       "        text-align: right;\n",
       "    }\n",
       "</style>\n",
       "<table border=\"1\" class=\"dataframe\">\n",
       "  <thead>\n",
       "    <tr style=\"text-align: right;\">\n",
       "      <th></th>\n",
       "      <th>Version</th>\n",
       "      <th>Gender</th>\n",
       "      <th>Age</th>\n",
       "      <th>Region</th>\n",
       "      <th>Dialect</th>\n",
       "      <th>LabelText</th>\n",
       "    </tr>\n",
       "  </thead>\n",
       "  <tbody>\n",
       "    <tr>\n",
       "      <th>0</th>\n",
       "      <td>N/A</td>\n",
       "      <td>Male</td>\n",
       "      <td>20~29</td>\n",
       "      <td>서울/인천/경기</td>\n",
       "      <td>경기/서울</td>\n",
       "      <td>통증이 언제부터였는지 기억해요?</td>\n",
       "    </tr>\n",
       "    <tr>\n",
       "      <th>1</th>\n",
       "      <td>N/A</td>\n",
       "      <td>Male</td>\n",
       "      <td>20~29</td>\n",
       "      <td>대전/세종/충청/강원</td>\n",
       "      <td>충청</td>\n",
       "      <td>통증이 쭈욱 계속 이어지나요?</td>\n",
       "    </tr>\n",
       "    <tr>\n",
       "      <th>5</th>\n",
       "      <td>N/A</td>\n",
       "      <td>Male</td>\n",
       "      <td>20~29</td>\n",
       "      <td>부산/대구/울산/경상</td>\n",
       "      <td>경기/서울</td>\n",
       "      <td>여기 연락처는 새로 적을게요.</td>\n",
       "    </tr>\n",
       "    <tr>\n",
       "      <th>8</th>\n",
       "      <td>N/A</td>\n",
       "      <td>Female</td>\n",
       "      <td>20~29</td>\n",
       "      <td>서울/인천/경기</td>\n",
       "      <td>경기/서울</td>\n",
       "      <td>네 요즘 코로나 때문에 매일 보호자분도 열 체크해야 해서요.</td>\n",
       "    </tr>\n",
       "    <tr>\n",
       "      <th>9</th>\n",
       "      <td>N/A</td>\n",
       "      <td>Female</td>\n",
       "      <td>20~29</td>\n",
       "      <td>서울/인천/경기</td>\n",
       "      <td>경기/서울</td>\n",
       "      <td>정상적인 가래를 뱉으시나요?</td>\n",
       "    </tr>\n",
       "  </tbody>\n",
       "</table>\n",
       "</div>"
      ],
      "text/plain": [
       "  Version  Gender    Age       Region Dialect  \\\n",
       "0     N/A    Male  20~29     서울/인천/경기   경기/서울   \n",
       "1     N/A    Male  20~29  대전/세종/충청/강원      충청   \n",
       "5     N/A    Male  20~29  부산/대구/울산/경상   경기/서울   \n",
       "8     N/A  Female  20~29     서울/인천/경기   경기/서울   \n",
       "9     N/A  Female  20~29     서울/인천/경기   경기/서울   \n",
       "\n",
       "                           LabelText  \n",
       "0                  통증이 언제부터였는지 기억해요?  \n",
       "1                   통증이 쭈욱 계속 이어지나요?  \n",
       "5                   여기 연락처는 새로 적을게요.  \n",
       "8  네 요즘 코로나 때문에 매일 보호자분도 열 체크해야 해서요.  \n",
       "9                    정상적인 가래를 뱉으시나요?  "
      ]
     },
     "execution_count": 23,
     "metadata": {},
     "output_type": "execute_result"
    }
   ],
   "source": [
    "his_df.groupby('Age').get_group('20~29')[:5]"
   ]
  },
  {
   "cell_type": "code",
   "execution_count": 2,
   "metadata": {},
   "outputs": [
    {
     "name": "stdout",
     "output_type": "stream",
     "text": [
      "E://비대면_data/비대면 진료를 위한 의료진 및 환자 음성/Training/[T]라벨링데이터/medsub/간호사\n"
     ]
    }
   ],
   "source": [
    "import json\n",
    "import pandas as pd\n",
    "import numpy as np\n",
    "import requests\n",
    "import io\n",
    "import re\n",
    "import os\n",
    "path_lis = [os.path.join(path,i) for i in job]\n",
    "print(path_lis[0])"
   ]
  },
  {
   "cell_type": "code",
   "execution_count": 3,
   "metadata": {},
   "outputs": [
    {
     "name": "stdout",
     "output_type": "stream",
     "text": [
      "3 HB_0004 2425\n"
     ]
    }
   ],
   "source": [
    "dir = [os.listdir(i) for i in path_lis]\n",
    "print(len(dir),dir[1][1],len(dir[0]) + len(dir[1]) + len(dir[2]))"
   ]
  },
  {
   "cell_type": "code",
   "execution_count": 4,
   "metadata": {},
   "outputs": [],
   "source": [
    "# 패스합치기 1\n",
    "dir_path = [[],[],[]]\n",
    "for k,i in enumerate(dir):\n",
    "    for v,j in enumerate(i):\n",
    "        j = j.replace(j,path_lis[k]+'/'+j)\n",
    "        dir_path[k].append(j)\n",
    "\n"
   ]
  },
  {
   "cell_type": "code",
   "execution_count": 5,
   "metadata": {},
   "outputs": [
    {
     "name": "stdout",
     "output_type": "stream",
     "text": [
      "1341 1341 E://비대면_data/비대면 진료를 위한 의료진 및 환자 음성/Training/[T]라벨링데이터/medsub/환자/PA_0171\n"
     ]
    }
   ],
   "source": [
    "print(len(dir_path[2]),len(dir[2]),dir_path[2][100])"
   ]
  },
  {
   "cell_type": "code",
   "execution_count": 6,
   "metadata": {},
   "outputs": [
    {
     "data": {
      "text/plain": [
       "'E://비대면_data/비대면 진료를 위한 의료진 및 환자 음성/Training/[T]라벨링데이터/medsub/간호사/HA_0010'"
      ]
     },
     "execution_count": 6,
     "metadata": {},
     "output_type": "execute_result"
    }
   ],
   "source": [
    "data = [[],[],[]]\n",
    "cnt = 0\n",
    "for k,i in enumerate(dir_path):\n",
    "    for v,j in enumerate(i):\n",
    "        j = j.replace(j,j)\n",
    "        data[k].append(j)\n",
    "\n",
    "data[0][0]\n"
   ]
  },
  {
   "cell_type": "code",
   "execution_count": 7,
   "metadata": {},
   "outputs": [
    {
     "data": {
      "text/plain": [
       "'E://비대면_data/비대면 진료를 위한 의료진 및 환자 음성/Training/[T]라벨링데이터/medsub/간호사/HA_0010'"
      ]
     },
     "execution_count": 7,
     "metadata": {},
     "output_type": "execute_result"
    }
   ],
   "source": [
    "dir_path[0][0]"
   ]
  },
  {
   "cell_type": "code",
   "execution_count": 8,
   "metadata": {},
   "outputs": [],
   "source": [
    "data = [os.listdir(j) for k,i in enumerate(dir_path) for j in i]"
   ]
  },
  {
   "cell_type": "code",
   "execution_count": 9,
   "metadata": {},
   "outputs": [],
   "source": [
    "data = [[],[],[]]\n",
    "for k,i  in enumerate(dir_path):\n",
    "    for v,j in enumerate(i):\n",
    "        x = os.listdir(j)\n",
    "        data[k].append(x)\n"
   ]
  },
  {
   "cell_type": "code",
   "execution_count": 10,
   "metadata": {},
   "outputs": [
    {
     "name": "stdout",
     "output_type": "stream",
     "text": [
      "['HA_0010-1-01-02-M-04-A.json', 'HA_0010-1-01-02-M-04-A.txt']\n"
     ]
    }
   ],
   "source": [
    "print(data[0][0][:2])"
   ]
  },
  {
   "cell_type": "code",
   "execution_count": 11,
   "metadata": {},
   "outputs": [],
   "source": [
    "# path 합치기2\n",
    "for k,i in enumerate(data):\n",
    "    for v,j in enumerate(i):\n",
    "        for t,e in enumerate(j):\n",
    "            data[k][v][t] = data[k][v][t].replace(data[k][v][t],dir_path[k][v]+'/'+e)\n"
   ]
  },
  {
   "cell_type": "code",
   "execution_count": 12,
   "metadata": {},
   "outputs": [
    {
     "data": {
      "text/plain": [
       "['E://비대면_data/비대면 진료를 위한 의료진 및 환자 음성/Training/[T]라벨링데이터/medsub/간호사/HA_0010/HA_0010-1-01-02-M-04-A.json',\n",
       " 'E://비대면_data/비대면 진료를 위한 의료진 및 환자 음성/Training/[T]라벨링데이터/medsub/간호사/HA_0010/HA_0010-1-01-02-M-04-A.txt']"
      ]
     },
     "execution_count": 12,
     "metadata": {},
     "output_type": "execute_result"
    }
   ],
   "source": [
    "data[0][0][:2]"
   ]
  },
  {
   "cell_type": "code",
   "execution_count": 15,
   "metadata": {},
   "outputs": [],
   "source": [
    "json_data = []\n",
    "for i in data:\n",
    "    for j in i:\n",
    "        for e in j:\n",
    "            if e.endswith('json') == True:\n",
    "                json_data.append(e)"
   ]
  },
  {
   "cell_type": "code",
   "execution_count": 19,
   "metadata": {},
   "outputs": [
    {
     "data": {
      "text/plain": [
       "1130811"
      ]
     },
     "execution_count": 19,
     "metadata": {},
     "output_type": "execute_result"
    }
   ],
   "source": [
    "len(json_data)"
   ]
  },
  {
   "cell_type": "code",
   "execution_count": 65,
   "metadata": {},
   "outputs": [
    {
     "data": {
      "text/plain": [
       "['E://비대면_data/비대면 진료를 위한 의료진 및 환자 음성/Training/[T]라벨링데이터/medsub/간호사/HA_0010/HA_0010-1-01-02-M-04-A.json',\n",
       " 'E://비대면_data/비대면 진료를 위한 의료진 및 환자 음성/Training/[T]라벨링데이터/medsub/간호사/HA_0010/HA_0010-10-01-02-M-04-A.json',\n",
       " 'E://비대면_data/비대면 진료를 위한 의료진 및 환자 음성/Training/[T]라벨링데이터/medsub/간호사/HA_0010/HA_0010-100-01-02-M-04-A.json',\n",
       " 'E://비대면_data/비대면 진료를 위한 의료진 및 환자 음성/Training/[T]라벨링데이터/medsub/간호사/HA_0010/HA_0010-101-01-02-M-04-A.json',\n",
       " 'E://비대면_data/비대면 진료를 위한 의료진 및 환자 음성/Training/[T]라벨링데이터/medsub/간호사/HA_0010/HA_0010-102-01-02-M-04-A.json',\n",
       " 'E://비대면_data/비대면 진료를 위한 의료진 및 환자 음성/Training/[T]라벨링데이터/medsub/간호사/HA_0010/HA_0010-103-01-02-M-04-A.json',\n",
       " 'E://비대면_data/비대면 진료를 위한 의료진 및 환자 음성/Training/[T]라벨링데이터/medsub/간호사/HA_0010/HA_0010-104-01-02-M-04-A.json',\n",
       " 'E://비대면_data/비대면 진료를 위한 의료진 및 환자 음성/Training/[T]라벨링데이터/medsub/간호사/HA_0010/HA_0010-105-01-02-M-04-A.json',\n",
       " 'E://비대면_data/비대면 진료를 위한 의료진 및 환자 음성/Training/[T]라벨링데이터/medsub/간호사/HA_0010/HA_0010-106-01-02-M-04-A.json',\n",
       " 'E://비대면_data/비대면 진료를 위한 의료진 및 환자 음성/Training/[T]라벨링데이터/medsub/간호사/HA_0010/HA_0010-107-01-02-M-04-A.json']"
      ]
     },
     "execution_count": 65,
     "metadata": {},
     "output_type": "execute_result"
    }
   ],
   "source": [
    "json_data[:10]"
   ]
  },
  {
   "cell_type": "code",
   "execution_count": 21,
   "metadata": {},
   "outputs": [
    {
     "data": {
      "text/plain": [
       "dict_keys(['기본정보', '음성정보', '전사정보', '화자정보', '환경정보', '파일정보', '기타정보'])"
      ]
     },
     "execution_count": 21,
     "metadata": {},
     "output_type": "execute_result"
    }
   ],
   "source": [
    "with open (json_data[0], \"r\") as f:\n",
    "    asd = json.load(f)\n",
    "asd.keys()"
   ]
  },
  {
   "cell_type": "code",
   "execution_count": 117,
   "metadata": {},
   "outputs": [],
   "source": [
    "bin = pd.DataFrame()\n",
    "person = pd.DataFrame()\n",
    "all = pd.DataFrame()\n",
    "cnt = 0\n",
    "for i in json_data[:3]:\n",
    "    with open (i, \"r\") as f:\n",
    "        json_data_load = json.load(f)\n",
    "        for j in json_data_load.keys():\n",
    "            print(j)\n",
    "            cnt += 1\n",
    "            a = pd.DataFrame.from_dict(json_data_load.get(j),orient='index')\n",
    "            if cnt < 7:\n",
    "                person = pd.concat([person,a])\n",
    "            else:\n",
    "                all = pd.concat([all,person],axis =1)\n",
    "                person = pd.DataFrame()\n",
    "                person = pd.concat([bin,a])\n",
    "                cnt = 0"
   ]
  },
  {
   "cell_type": "code",
   "execution_count": 115,
   "metadata": {},
   "outputs": [
    {
     "data": {
      "text/html": [
       "<div>\n",
       "<style scoped>\n",
       "    .dataframe tbody tr th:only-of-type {\n",
       "        vertical-align: middle;\n",
       "    }\n",
       "\n",
       "    .dataframe tbody tr th {\n",
       "        vertical-align: top;\n",
       "    }\n",
       "\n",
       "    .dataframe thead th {\n",
       "        text-align: right;\n",
       "    }\n",
       "</style>\n",
       "<table border=\"1\" class=\"dataframe\">\n",
       "  <thead>\n",
       "    <tr style=\"text-align: right;\">\n",
       "      <th></th>\n",
       "      <th>0</th>\n",
       "      <th>1</th>\n",
       "      <th>2</th>\n",
       "    </tr>\n",
       "  </thead>\n",
       "  <tbody>\n",
       "    <tr>\n",
       "      <th>Language</th>\n",
       "      <td>KOR</td>\n",
       "      <td>KOR</td>\n",
       "      <td>KOR</td>\n",
       "    </tr>\n",
       "    <tr>\n",
       "      <th>Version</th>\n",
       "      <td>N/A</td>\n",
       "      <td>N/A</td>\n",
       "      <td>N/A</td>\n",
       "    </tr>\n",
       "    <tr>\n",
       "      <th>ApplicationCategory</th>\n",
       "      <td>N/A</td>\n",
       "      <td>N/A</td>\n",
       "      <td>N/A</td>\n",
       "    </tr>\n",
       "    <tr>\n",
       "      <th>NumberOfSpeaker</th>\n",
       "      <td>N/A</td>\n",
       "      <td>N/A</td>\n",
       "      <td>N/A</td>\n",
       "    </tr>\n",
       "    <tr>\n",
       "      <th>NumberOfUtterance</th>\n",
       "      <td>N/A</td>\n",
       "      <td>N/A</td>\n",
       "      <td>N/A</td>\n",
       "    </tr>\n",
       "    <tr>\n",
       "      <th>DataCategory</th>\n",
       "      <td>mariaDB</td>\n",
       "      <td>mariaDB</td>\n",
       "      <td>mariaDB</td>\n",
       "    </tr>\n",
       "    <tr>\n",
       "      <th>RecordingDate</th>\n",
       "      <td>2021-01-25 19:04:54</td>\n",
       "      <td>2021-01-25 19:07:52</td>\n",
       "      <td>2021-01-25 19:23:13</td>\n",
       "    </tr>\n",
       "    <tr>\n",
       "      <th>FillingDate</th>\n",
       "      <td>N/A</td>\n",
       "      <td>N/A</td>\n",
       "      <td>N/A</td>\n",
       "    </tr>\n",
       "    <tr>\n",
       "      <th>RevisionHistory</th>\n",
       "      <td>N/A</td>\n",
       "      <td>N/A</td>\n",
       "      <td>N/A</td>\n",
       "    </tr>\n",
       "    <tr>\n",
       "      <th>Distributor</th>\n",
       "      <td>Mediazen</td>\n",
       "      <td>Mediazen</td>\n",
       "      <td>Mediazen</td>\n",
       "    </tr>\n",
       "    <tr>\n",
       "      <th>SamplingRate</th>\n",
       "      <td>48000</td>\n",
       "      <td>48000</td>\n",
       "      <td>48000</td>\n",
       "    </tr>\n",
       "    <tr>\n",
       "      <th>ByteOrder</th>\n",
       "      <td>N/A</td>\n",
       "      <td>N/A</td>\n",
       "      <td>N/A</td>\n",
       "    </tr>\n",
       "    <tr>\n",
       "      <th>EncodingLaw</th>\n",
       "      <td>SignedIntegerPCM</td>\n",
       "      <td>SignedIntegerPCM</td>\n",
       "      <td>SignedIntegerPCM</td>\n",
       "    </tr>\n",
       "    <tr>\n",
       "      <th>NumberOfBit</th>\n",
       "      <td>16</td>\n",
       "      <td>16</td>\n",
       "      <td>16</td>\n",
       "    </tr>\n",
       "    <tr>\n",
       "      <th>NumberOfChannel</th>\n",
       "      <td>1</td>\n",
       "      <td>1</td>\n",
       "      <td>1</td>\n",
       "    </tr>\n",
       "    <tr>\n",
       "      <th>SignalToNoiseRatio</th>\n",
       "      <td>N/A</td>\n",
       "      <td>N/A</td>\n",
       "      <td>N/A</td>\n",
       "    </tr>\n",
       "    <tr>\n",
       "      <th>LabelText</th>\n",
       "      <td>집안에 고혈압인 분 있나요?</td>\n",
       "      <td>술을 얼마나 자주 드시나요?</td>\n",
       "      <td>머리가 핑도는 느낌이 있으신가요?</td>\n",
       "    </tr>\n",
       "    <tr>\n",
       "      <th>Gender</th>\n",
       "      <td>Male</td>\n",
       "      <td>Male</td>\n",
       "      <td>Male</td>\n",
       "    </tr>\n",
       "    <tr>\n",
       "      <th>Age</th>\n",
       "      <td>20~29</td>\n",
       "      <td>20~29</td>\n",
       "      <td>20~29</td>\n",
       "    </tr>\n",
       "    <tr>\n",
       "      <th>Region</th>\n",
       "      <td>서울/인천/경기</td>\n",
       "      <td>서울/인천/경기</td>\n",
       "      <td>서울/인천/경기</td>\n",
       "    </tr>\n",
       "    <tr>\n",
       "      <th>Dialect</th>\n",
       "      <td>경기/서울</td>\n",
       "      <td>경기/서울</td>\n",
       "      <td>경기/서울</td>\n",
       "    </tr>\n",
       "    <tr>\n",
       "      <th>RecordingEnviron</th>\n",
       "      <td>가정</td>\n",
       "      <td>가정</td>\n",
       "      <td>가정</td>\n",
       "    </tr>\n",
       "    <tr>\n",
       "      <th>NoiseEnviron</th>\n",
       "      <td>가정</td>\n",
       "      <td>가정</td>\n",
       "      <td>가정</td>\n",
       "    </tr>\n",
       "    <tr>\n",
       "      <th>RecordingDevice</th>\n",
       "      <td>노트북</td>\n",
       "      <td>노트북</td>\n",
       "      <td>노트북</td>\n",
       "    </tr>\n",
       "    <tr>\n",
       "      <th>FileCategory</th>\n",
       "      <td>Audio</td>\n",
       "      <td>Audio</td>\n",
       "      <td>Audio</td>\n",
       "    </tr>\n",
       "    <tr>\n",
       "      <th>FileName</th>\n",
       "      <td>HA_0010-1-01-02-M-04-A.wav</td>\n",
       "      <td>HA_0010-10-01-02-M-04-A.wav</td>\n",
       "      <td>HA_0010-100-01-02-M-04-A.wav</td>\n",
       "    </tr>\n",
       "    <tr>\n",
       "      <th>DirectoryPath</th>\n",
       "      <td>/nia/HA/data/HA_0010</td>\n",
       "      <td>/nia/HA/data/HA_0010</td>\n",
       "      <td>/nia/HA/data/HA_0010</td>\n",
       "    </tr>\n",
       "    <tr>\n",
       "      <th>HeaderSize</th>\n",
       "      <td>44</td>\n",
       "      <td>44</td>\n",
       "      <td>44</td>\n",
       "    </tr>\n",
       "    <tr>\n",
       "      <th>FileLength</th>\n",
       "      <td>3.30</td>\n",
       "      <td>3.06</td>\n",
       "      <td>2.70</td>\n",
       "    </tr>\n",
       "    <tr>\n",
       "      <th>FileFormat</th>\n",
       "      <td>PCM</td>\n",
       "      <td>PCM</td>\n",
       "      <td>PCM</td>\n",
       "    </tr>\n",
       "    <tr>\n",
       "      <th>NumberOfRepeat</th>\n",
       "      <td>1</td>\n",
       "      <td>1</td>\n",
       "      <td>1</td>\n",
       "    </tr>\n",
       "    <tr>\n",
       "      <th>TimeInterval</th>\n",
       "      <td>0</td>\n",
       "      <td>0</td>\n",
       "      <td>0</td>\n",
       "    </tr>\n",
       "    <tr>\n",
       "      <th>Distance</th>\n",
       "      <td>30</td>\n",
       "      <td>30</td>\n",
       "      <td>30</td>\n",
       "    </tr>\n",
       "    <tr>\n",
       "      <th>QualityStatus</th>\n",
       "      <td>NaN</td>\n",
       "      <td>Good</td>\n",
       "      <td>Good</td>\n",
       "    </tr>\n",
       "  </tbody>\n",
       "</table>\n",
       "</div>"
      ],
      "text/plain": [
       "                                              0                            1  \\\n",
       "Language                                    KOR                          KOR   \n",
       "Version                                     N/A                          N/A   \n",
       "ApplicationCategory                         N/A                          N/A   \n",
       "NumberOfSpeaker                             N/A                          N/A   \n",
       "NumberOfUtterance                           N/A                          N/A   \n",
       "DataCategory                            mariaDB                      mariaDB   \n",
       "RecordingDate               2021-01-25 19:04:54          2021-01-25 19:07:52   \n",
       "FillingDate                                 N/A                          N/A   \n",
       "RevisionHistory                             N/A                          N/A   \n",
       "Distributor                            Mediazen                     Mediazen   \n",
       "SamplingRate                              48000                        48000   \n",
       "ByteOrder                                   N/A                          N/A   \n",
       "EncodingLaw                    SignedIntegerPCM             SignedIntegerPCM   \n",
       "NumberOfBit                                  16                           16   \n",
       "NumberOfChannel                               1                            1   \n",
       "SignalToNoiseRatio                          N/A                          N/A   \n",
       "LabelText                       집안에 고혈압인 분 있나요?              술을 얼마나 자주 드시나요?   \n",
       "Gender                                     Male                         Male   \n",
       "Age                                       20~29                        20~29   \n",
       "Region                                 서울/인천/경기                     서울/인천/경기   \n",
       "Dialect                                   경기/서울                        경기/서울   \n",
       "RecordingEnviron                             가정                           가정   \n",
       "NoiseEnviron                                 가정                           가정   \n",
       "RecordingDevice                             노트북                          노트북   \n",
       "FileCategory                              Audio                        Audio   \n",
       "FileName             HA_0010-1-01-02-M-04-A.wav  HA_0010-10-01-02-M-04-A.wav   \n",
       "DirectoryPath              /nia/HA/data/HA_0010         /nia/HA/data/HA_0010   \n",
       "HeaderSize                                   44                           44   \n",
       "FileLength                                 3.30                         3.06   \n",
       "FileFormat                                  PCM                          PCM   \n",
       "NumberOfRepeat                                1                            1   \n",
       "TimeInterval                                  0                            0   \n",
       "Distance                                     30                           30   \n",
       "QualityStatus                               NaN                         Good   \n",
       "\n",
       "                                                2  \n",
       "Language                                      KOR  \n",
       "Version                                       N/A  \n",
       "ApplicationCategory                           N/A  \n",
       "NumberOfSpeaker                               N/A  \n",
       "NumberOfUtterance                             N/A  \n",
       "DataCategory                              mariaDB  \n",
       "RecordingDate                 2021-01-25 19:23:13  \n",
       "FillingDate                                   N/A  \n",
       "RevisionHistory                               N/A  \n",
       "Distributor                              Mediazen  \n",
       "SamplingRate                                48000  \n",
       "ByteOrder                                     N/A  \n",
       "EncodingLaw                      SignedIntegerPCM  \n",
       "NumberOfBit                                    16  \n",
       "NumberOfChannel                                 1  \n",
       "SignalToNoiseRatio                            N/A  \n",
       "LabelText                      머리가 핑도는 느낌이 있으신가요?  \n",
       "Gender                                       Male  \n",
       "Age                                         20~29  \n",
       "Region                                   서울/인천/경기  \n",
       "Dialect                                     경기/서울  \n",
       "RecordingEnviron                               가정  \n",
       "NoiseEnviron                                   가정  \n",
       "RecordingDevice                               노트북  \n",
       "FileCategory                                Audio  \n",
       "FileName             HA_0010-100-01-02-M-04-A.wav  \n",
       "DirectoryPath                /nia/HA/data/HA_0010  \n",
       "HeaderSize                                     44  \n",
       "FileLength                                   2.70  \n",
       "FileFormat                                    PCM  \n",
       "NumberOfRepeat                                  1  \n",
       "TimeInterval                                    0  \n",
       "Distance                                       30  \n",
       "QualityStatus                                Good  "
      ]
     },
     "execution_count": 115,
     "metadata": {},
     "output_type": "execute_result"
    }
   ],
   "source": [
    "all"
   ]
  },
  {
   "cell_type": "code",
   "execution_count": 113,
   "metadata": {},
   "outputs": [
    {
     "data": {
      "text/html": [
       "<div>\n",
       "<style scoped>\n",
       "    .dataframe tbody tr th:only-of-type {\n",
       "        vertical-align: middle;\n",
       "    }\n",
       "\n",
       "    .dataframe tbody tr th {\n",
       "        vertical-align: top;\n",
       "    }\n",
       "\n",
       "    .dataframe thead th {\n",
       "        text-align: right;\n",
       "    }\n",
       "</style>\n",
       "<table border=\"1\" class=\"dataframe\">\n",
       "  <thead>\n",
       "    <tr style=\"text-align: right;\">\n",
       "      <th></th>\n",
       "      <th>ddd</th>\n",
       "    </tr>\n",
       "  </thead>\n",
       "  <tbody>\n",
       "    <tr>\n",
       "      <th>Language</th>\n",
       "      <td>KOR</td>\n",
       "    </tr>\n",
       "    <tr>\n",
       "      <th>Version</th>\n",
       "      <td>N/A</td>\n",
       "    </tr>\n",
       "    <tr>\n",
       "      <th>ApplicationCategory</th>\n",
       "      <td>N/A</td>\n",
       "    </tr>\n",
       "    <tr>\n",
       "      <th>NumberOfSpeaker</th>\n",
       "      <td>N/A</td>\n",
       "    </tr>\n",
       "    <tr>\n",
       "      <th>NumberOfUtterance</th>\n",
       "      <td>N/A</td>\n",
       "    </tr>\n",
       "    <tr>\n",
       "      <th>DataCategory</th>\n",
       "      <td>mariaDB</td>\n",
       "    </tr>\n",
       "    <tr>\n",
       "      <th>RecordingDate</th>\n",
       "      <td>2021-01-25 19:04:54</td>\n",
       "    </tr>\n",
       "    <tr>\n",
       "      <th>FillingDate</th>\n",
       "      <td>N/A</td>\n",
       "    </tr>\n",
       "    <tr>\n",
       "      <th>RevisionHistory</th>\n",
       "      <td>N/A</td>\n",
       "    </tr>\n",
       "    <tr>\n",
       "      <th>Distributor</th>\n",
       "      <td>Mediazen</td>\n",
       "    </tr>\n",
       "  </tbody>\n",
       "</table>\n",
       "</div>"
      ],
      "text/plain": [
       "                                     ddd\n",
       "Language                             KOR\n",
       "Version                              N/A\n",
       "ApplicationCategory                  N/A\n",
       "NumberOfSpeaker                      N/A\n",
       "NumberOfUtterance                    N/A\n",
       "DataCategory                     mariaDB\n",
       "RecordingDate        2021-01-25 19:04:54\n",
       "FillingDate                          N/A\n",
       "RevisionHistory                      N/A\n",
       "Distributor                     Mediazen"
      ]
     },
     "execution_count": 113,
     "metadata": {},
     "output_type": "execute_result"
    }
   ],
   "source": [
    "with open (json_data[0], \"r\") as f:\n",
    "    a = json.load(f)\n",
    "aa = pd.DataFrame.from_dict(a.get('기본정보'),orient='index')\n",
    "bb = pd.DataFrame.from_dict(a.get('음성정보'),orient='index')\n",
    "cc = pd.DataFrame.from_dict(a.get('전사정보'),orient='index')\n",
    "dd = pd.DataFrame.from_dict(a.get('화자정보'),orient='index')\n",
    "ee = pd.DataFrame.from_dict(a.get('환경정보'),orient='index')\n",
    "gg = pd.DataFrame.from_dict(a.get('파일정보'),orient='index')\n",
    "ff = pd.DataFrame.from_dict(a.get('기타정보'),orient='index')\n",
    "\n",
    "len(aa+bb+cc+dd+ee+ff+gg)\n",
    "aa.columns = ['ddd']\n",
    "aa"
   ]
  },
  {
   "cell_type": "code",
   "execution_count": 54,
   "metadata": {},
   "outputs": [
    {
     "data": {
      "text/plain": [
       "'E://비대면_data/비대면 진료를 위한 의료진 및 환자 음성/Training/[T]라벨링데이터/medsub/간호사'"
      ]
     },
     "execution_count": 54,
     "metadata": {},
     "output_type": "execute_result"
    }
   ],
   "source": [
    ":s.path.splitext(path_lis[0])"
   ]
  },
  {
   "cell_type": "code",
   "execution_count": 7,
   "metadata": {},
   "outputs": [
    {
     "name": "stdout",
     "output_type": "stream",
     "text": [
      "[[1], [2], [3]]\n"
     ]
    }
   ],
   "source": [
    "def json_to_dataframe(path, record_path = ['dataSearch','content'], verbose = 1):\n",
    "    \"\"\"\n",
    "    input_file_path: path to the squad json file.\n",
    "    record_path: path to deepest level in json file default value is\n",
    "    ['data','paragraphs','qas','answers']\n",
    "    verbose: 0 to suppress it default is 1\n",
    "    \"\"\"\n",
    "    if verbose:\n",
    "        print(\"Reading the json file\") \n",
    "    file = json.loads(url_get_text)\n",
    "    if verbose:\n",
    "        print(\"processing...\")\n",
    "    con_qa = pd.io.json.json_normalize(file , record_path)\n",
    "\n",
    "    gubun = []\n",
    "    for i in range(len(file['dataSearch']['content'])):\n",
    "      gubun.append(file['dataSearch']['content'][i]['gubun'])\n",
    "    \n",
    "    url_get_ans = input_file_path[:109] + 'COUNSEL_VIEW&contentType=json&gubun='\n",
    "\n",
    "    text = []\n",
    "    bul = ['&nbsp;','\\r\\n']\n",
    "    for i in range(len(gubun)):\n",
    "      url_qa_join = url_get_ans + gubun[i]\n",
    "      url_qa_join_request = requests.get(url_qa_join)\n",
    "      url_qa_join_request_text = url_qa_join_request.text\n",
    "      url_json = json.loads(url_qa_join_request_text)\n",
    "      text_rem = re.sub('(<([^>]+)>)', '', str(url_json['dataSearch']['content'][0]['answer']))\n",
    "      for j in range(len(bul)):\n",
    "        text_rem = text_rem.replace(bul[j],'')\n",
    "      text.append(text_rem)\n",
    "    text_pd = pd.DataFrame(text, columns = ['answer'])\n",
    "\n",
    "    all_data = pd.concat([con_qa,text_pd],axis = 1)\n",
    "\n",
    "    return all_data"
   ]
  },
  {
   "cell_type": "code",
   "execution_count": null,
   "metadata": {},
   "outputs": [],
   "source": []
  },
  {
   "cell_type": "code",
   "execution_count": null,
   "metadata": {},
   "outputs": [],
   "source": []
  },
  {
   "cell_type": "code",
   "execution_count": null,
   "metadata": {},
   "outputs": [],
   "source": []
  },
  {
   "cell_type": "code",
   "execution_count": null,
   "metadata": {},
   "outputs": [],
   "source": []
  },
  {
   "cell_type": "code",
   "execution_count": null,
   "metadata": {},
   "outputs": [],
   "source": []
  }
 ],
 "metadata": {
  "kernelspec": {
   "display_name": "dddd",
   "language": "python",
   "name": "python3"
  },
  "language_info": {
   "codemirror_mode": {
    "name": "ipython",
    "version": 3
   },
   "file_extension": ".py",
   "mimetype": "text/x-python",
   "name": "python",
   "nbconvert_exporter": "python",
   "pygments_lexer": "ipython3",
   "version": "3.8.13"
  },
  "orig_nbformat": 4,
  "vscode": {
   "interpreter": {
    "hash": "773668e6eb7dc79ecd5b08b6447ac277f7828a3f1c85e88a9300d8af8655a2a2"
   }
  }
 },
 "nbformat": 4,
 "nbformat_minor": 2
}
